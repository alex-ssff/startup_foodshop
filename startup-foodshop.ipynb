{
 "cells": [
  {
   "cell_type": "markdown",
   "id": "e7362b0d",
   "metadata": {},
   "source": [
    "# Проектная работа \"Стартап по продаже продуктов питания\""
   ]
  },
  {
   "cell_type": "markdown",
   "id": "2dc2299c",
   "metadata": {},
   "source": [
    "## Введение"
   ]
  },
  {
   "cell_type": "markdown",
   "id": "1defa61b",
   "metadata": {},
   "source": [
    "### Описание проекта"
   ]
  },
  {
   "cell_type": "markdown",
   "id": "3d026e0b",
   "metadata": {},
   "source": [
    "Для стартап по продаже продуктов питания необходимо понять поведение пользователей в мобильном приложении. Дополнительно этого надо разрешить спор между дизайнерами и менеджерами: изменения шрифта во все приложении оттолкнет пользователей или нет."
   ]
  },
  {
   "cell_type": "markdown",
   "id": "009875f5",
   "metadata": {},
   "source": [
    "### Цель проекта"
   ]
  },
  {
   "cell_type": "markdown",
   "id": "89c228c8",
   "metadata": {},
   "source": [
    "- Проанализировать поведение покупателей.\n",
    "- Узнать, какие пользователи доходят до покупки.\n",
    "- Выяснить, какой шрифт лучше"
   ]
  },
  {
   "cell_type": "markdown",
   "id": "3607ff10",
   "metadata": {},
   "source": [
    "### Ход решения"
   ]
  },
  {
   "cell_type": "markdown",
   "id": "30525ee2",
   "metadata": {},
   "source": [
    "1. Загрузить файлы с данными и изучить их.\n",
    "2. Подготовить данные к анализу.\n",
    "3. Изучить и проверить данные.\n",
    "4. Изучить воронку событий.\n",
    "5. Изучить результаты эксперимента.\n",
    "6. Выводы."
   ]
  },
  {
   "cell_type": "markdown",
   "id": "da49ded6",
   "metadata": {},
   "source": [
    "### Описание данных"
   ]
  },
  {
   "cell_type": "markdown",
   "id": "dcecc263",
   "metadata": {},
   "source": [
    "Структура /datasets/logs_exp.csv:  \n",
    "\n",
    "•\tEventName — название события;  \n",
    "•\tDeviceIDHash — уникальный идентификатор пользователя;  \n",
    "•\tEventTimestamp — время события;  \n",
    "•\tExpId — номер эксперимента: 246 и 247 — контрольные группы, а 248 — экспериментальная.\n"
   ]
  },
  {
   "cell_type": "markdown",
   "id": "95f17ee8",
   "metadata": {},
   "source": [
    "## Изучение общей информации и подготовка данных"
   ]
  },
  {
   "cell_type": "markdown",
   "id": "55e33901",
   "metadata": {},
   "source": [
    "### Обзор данных"
   ]
  },
  {
   "cell_type": "markdown",
   "id": "77024102",
   "metadata": {},
   "source": [
    "Добавим библиотеки, которые будем использовать при работе в проекте."
   ]
  },
  {
   "cell_type": "code",
   "execution_count": 1,
   "id": "363d0398",
   "metadata": {},
   "outputs": [],
   "source": [
    "import pandas as pd\n",
    "import datetime as dt\n",
    "import numpy as np\n",
    "import matplotlib.pyplot as plt\n",
    "import scipy.stats as stats\n",
    "from statsmodels.stats.proportion import proportions_ztest"
   ]
  },
  {
   "cell_type": "code",
   "execution_count": 2,
   "id": "b538a7d5",
   "metadata": {},
   "outputs": [],
   "source": [
    "try:\n",
    "    data = pd.read_csv('/datasets/logs_exp.csv', sep='\\t')\n",
    "except FileNotFoundError:\n",
    "    data = pd.read_csv('logs_exp.csv', sep='\\t')\n",
    "except:\n",
    "    print('Проверьте путь к файлу')"
   ]
  },
  {
   "cell_type": "code",
   "execution_count": 3,
   "id": "cf5a21b4",
   "metadata": {},
   "outputs": [
    {
     "name": "stdout",
     "output_type": "stream",
     "text": [
      "<class 'pandas.core.frame.DataFrame'>\n",
      "RangeIndex: 244126 entries, 0 to 244125\n",
      "Data columns (total 4 columns):\n",
      " #   Column          Non-Null Count   Dtype \n",
      "---  ------          --------------   ----- \n",
      " 0   EventName       244126 non-null  object\n",
      " 1   DeviceIDHash    244126 non-null  int64 \n",
      " 2   EventTimestamp  244126 non-null  int64 \n",
      " 3   ExpId           244126 non-null  int64 \n",
      "dtypes: int64(3), object(1)\n",
      "memory usage: 7.5+ MB\n",
      "\n",
      "Количество дубликатов: 413\n"
     ]
    },
    {
     "data": {
      "text/html": [
       "<div>\n",
       "<style scoped>\n",
       "    .dataframe tbody tr th:only-of-type {\n",
       "        vertical-align: middle;\n",
       "    }\n",
       "\n",
       "    .dataframe tbody tr th {\n",
       "        vertical-align: top;\n",
       "    }\n",
       "\n",
       "    .dataframe thead th {\n",
       "        text-align: right;\n",
       "    }\n",
       "</style>\n",
       "<table border=\"1\" class=\"dataframe\">\n",
       "  <thead>\n",
       "    <tr style=\"text-align: right;\">\n",
       "      <th></th>\n",
       "      <th>EventName</th>\n",
       "      <th>DeviceIDHash</th>\n",
       "      <th>EventTimestamp</th>\n",
       "      <th>ExpId</th>\n",
       "    </tr>\n",
       "  </thead>\n",
       "  <tbody>\n",
       "    <tr>\n",
       "      <th>0</th>\n",
       "      <td>MainScreenAppear</td>\n",
       "      <td>4575588528974610257</td>\n",
       "      <td>1564029816</td>\n",
       "      <td>246</td>\n",
       "    </tr>\n",
       "    <tr>\n",
       "      <th>1</th>\n",
       "      <td>MainScreenAppear</td>\n",
       "      <td>7416695313311560658</td>\n",
       "      <td>1564053102</td>\n",
       "      <td>246</td>\n",
       "    </tr>\n",
       "    <tr>\n",
       "      <th>2</th>\n",
       "      <td>PaymentScreenSuccessful</td>\n",
       "      <td>3518123091307005509</td>\n",
       "      <td>1564054127</td>\n",
       "      <td>248</td>\n",
       "    </tr>\n",
       "    <tr>\n",
       "      <th>3</th>\n",
       "      <td>CartScreenAppear</td>\n",
       "      <td>3518123091307005509</td>\n",
       "      <td>1564054127</td>\n",
       "      <td>248</td>\n",
       "    </tr>\n",
       "    <tr>\n",
       "      <th>4</th>\n",
       "      <td>PaymentScreenSuccessful</td>\n",
       "      <td>6217807653094995999</td>\n",
       "      <td>1564055322</td>\n",
       "      <td>248</td>\n",
       "    </tr>\n",
       "    <tr>\n",
       "      <th>...</th>\n",
       "      <td>...</td>\n",
       "      <td>...</td>\n",
       "      <td>...</td>\n",
       "      <td>...</td>\n",
       "    </tr>\n",
       "    <tr>\n",
       "      <th>244121</th>\n",
       "      <td>MainScreenAppear</td>\n",
       "      <td>4599628364049201812</td>\n",
       "      <td>1565212345</td>\n",
       "      <td>247</td>\n",
       "    </tr>\n",
       "    <tr>\n",
       "      <th>244122</th>\n",
       "      <td>MainScreenAppear</td>\n",
       "      <td>5849806612437486590</td>\n",
       "      <td>1565212439</td>\n",
       "      <td>246</td>\n",
       "    </tr>\n",
       "    <tr>\n",
       "      <th>244123</th>\n",
       "      <td>MainScreenAppear</td>\n",
       "      <td>5746969938801999050</td>\n",
       "      <td>1565212483</td>\n",
       "      <td>246</td>\n",
       "    </tr>\n",
       "    <tr>\n",
       "      <th>244124</th>\n",
       "      <td>MainScreenAppear</td>\n",
       "      <td>5746969938801999050</td>\n",
       "      <td>1565212498</td>\n",
       "      <td>246</td>\n",
       "    </tr>\n",
       "    <tr>\n",
       "      <th>244125</th>\n",
       "      <td>OffersScreenAppear</td>\n",
       "      <td>5746969938801999050</td>\n",
       "      <td>1565212517</td>\n",
       "      <td>246</td>\n",
       "    </tr>\n",
       "  </tbody>\n",
       "</table>\n",
       "<p>244126 rows × 4 columns</p>\n",
       "</div>"
      ],
      "text/plain": [
       "                      EventName         DeviceIDHash  EventTimestamp  ExpId\n",
       "0              MainScreenAppear  4575588528974610257      1564029816    246\n",
       "1              MainScreenAppear  7416695313311560658      1564053102    246\n",
       "2       PaymentScreenSuccessful  3518123091307005509      1564054127    248\n",
       "3              CartScreenAppear  3518123091307005509      1564054127    248\n",
       "4       PaymentScreenSuccessful  6217807653094995999      1564055322    248\n",
       "...                         ...                  ...             ...    ...\n",
       "244121         MainScreenAppear  4599628364049201812      1565212345    247\n",
       "244122         MainScreenAppear  5849806612437486590      1565212439    246\n",
       "244123         MainScreenAppear  5746969938801999050      1565212483    246\n",
       "244124         MainScreenAppear  5746969938801999050      1565212498    246\n",
       "244125       OffersScreenAppear  5746969938801999050      1565212517    246\n",
       "\n",
       "[244126 rows x 4 columns]"
      ]
     },
     "execution_count": 3,
     "metadata": {},
     "output_type": "execute_result"
    }
   ],
   "source": [
    "data.info()\n",
    "print()\n",
    "print('Количество дубликатов:', data.duplicated().sum())\n",
    "data"
   ]
  },
  {
   "cell_type": "code",
   "execution_count": 4,
   "id": "a1b8f644",
   "metadata": {},
   "outputs": [
    {
     "data": {
      "text/plain": [
       "array(['MainScreenAppear', 'PaymentScreenSuccessful', 'CartScreenAppear',\n",
       "       'OffersScreenAppear', 'Tutorial'], dtype=object)"
      ]
     },
     "execution_count": 4,
     "metadata": {},
     "output_type": "execute_result"
    }
   ],
   "source": [
    "data['EventName'].unique()"
   ]
  },
  {
   "cell_type": "markdown",
   "id": "ad6a7d1d",
   "metadata": {},
   "source": [
    "Из полученной выше информации можно сделать вывод, что пропусков в данных нет, количество дубликатов составляет 413. Их мы удалим в следующем шаге. Также мы проверили столбец 'EventName' на неявные дубликаты, они отсутствуют. Начнем следующий раздел с поправки названия столбцов, чтобы не были сплошные слова без пробелов."
   ]
  },
  {
   "cell_type": "markdown",
   "id": "523397cc",
   "metadata": {},
   "source": [
    "### Предобработка данных"
   ]
  },
  {
   "cell_type": "code",
   "execution_count": 5,
   "id": "3a5e8d09",
   "metadata": {},
   "outputs": [
    {
     "data": {
      "text/html": [
       "<div>\n",
       "<style scoped>\n",
       "    .dataframe tbody tr th:only-of-type {\n",
       "        vertical-align: middle;\n",
       "    }\n",
       "\n",
       "    .dataframe tbody tr th {\n",
       "        vertical-align: top;\n",
       "    }\n",
       "\n",
       "    .dataframe thead th {\n",
       "        text-align: right;\n",
       "    }\n",
       "</style>\n",
       "<table border=\"1\" class=\"dataframe\">\n",
       "  <thead>\n",
       "    <tr style=\"text-align: right;\">\n",
       "      <th></th>\n",
       "      <th>event_name</th>\n",
       "      <th>device_id_hash</th>\n",
       "      <th>event_timestamp</th>\n",
       "      <th>exp_id</th>\n",
       "    </tr>\n",
       "  </thead>\n",
       "  <tbody>\n",
       "    <tr>\n",
       "      <th>0</th>\n",
       "      <td>MainScreenAppear</td>\n",
       "      <td>4575588528974610257</td>\n",
       "      <td>1564029816</td>\n",
       "      <td>246</td>\n",
       "    </tr>\n",
       "    <tr>\n",
       "      <th>1</th>\n",
       "      <td>MainScreenAppear</td>\n",
       "      <td>7416695313311560658</td>\n",
       "      <td>1564053102</td>\n",
       "      <td>246</td>\n",
       "    </tr>\n",
       "    <tr>\n",
       "      <th>2</th>\n",
       "      <td>PaymentScreenSuccessful</td>\n",
       "      <td>3518123091307005509</td>\n",
       "      <td>1564054127</td>\n",
       "      <td>248</td>\n",
       "    </tr>\n",
       "    <tr>\n",
       "      <th>3</th>\n",
       "      <td>CartScreenAppear</td>\n",
       "      <td>3518123091307005509</td>\n",
       "      <td>1564054127</td>\n",
       "      <td>248</td>\n",
       "    </tr>\n",
       "    <tr>\n",
       "      <th>4</th>\n",
       "      <td>PaymentScreenSuccessful</td>\n",
       "      <td>6217807653094995999</td>\n",
       "      <td>1564055322</td>\n",
       "      <td>248</td>\n",
       "    </tr>\n",
       "    <tr>\n",
       "      <th>...</th>\n",
       "      <td>...</td>\n",
       "      <td>...</td>\n",
       "      <td>...</td>\n",
       "      <td>...</td>\n",
       "    </tr>\n",
       "    <tr>\n",
       "      <th>244121</th>\n",
       "      <td>MainScreenAppear</td>\n",
       "      <td>4599628364049201812</td>\n",
       "      <td>1565212345</td>\n",
       "      <td>247</td>\n",
       "    </tr>\n",
       "    <tr>\n",
       "      <th>244122</th>\n",
       "      <td>MainScreenAppear</td>\n",
       "      <td>5849806612437486590</td>\n",
       "      <td>1565212439</td>\n",
       "      <td>246</td>\n",
       "    </tr>\n",
       "    <tr>\n",
       "      <th>244123</th>\n",
       "      <td>MainScreenAppear</td>\n",
       "      <td>5746969938801999050</td>\n",
       "      <td>1565212483</td>\n",
       "      <td>246</td>\n",
       "    </tr>\n",
       "    <tr>\n",
       "      <th>244124</th>\n",
       "      <td>MainScreenAppear</td>\n",
       "      <td>5746969938801999050</td>\n",
       "      <td>1565212498</td>\n",
       "      <td>246</td>\n",
       "    </tr>\n",
       "    <tr>\n",
       "      <th>244125</th>\n",
       "      <td>OffersScreenAppear</td>\n",
       "      <td>5746969938801999050</td>\n",
       "      <td>1565212517</td>\n",
       "      <td>246</td>\n",
       "    </tr>\n",
       "  </tbody>\n",
       "</table>\n",
       "<p>243713 rows × 4 columns</p>\n",
       "</div>"
      ],
      "text/plain": [
       "                     event_name       device_id_hash  event_timestamp  exp_id\n",
       "0              MainScreenAppear  4575588528974610257       1564029816     246\n",
       "1              MainScreenAppear  7416695313311560658       1564053102     246\n",
       "2       PaymentScreenSuccessful  3518123091307005509       1564054127     248\n",
       "3              CartScreenAppear  3518123091307005509       1564054127     248\n",
       "4       PaymentScreenSuccessful  6217807653094995999       1564055322     248\n",
       "...                         ...                  ...              ...     ...\n",
       "244121         MainScreenAppear  4599628364049201812       1565212345     247\n",
       "244122         MainScreenAppear  5849806612437486590       1565212439     246\n",
       "244123         MainScreenAppear  5746969938801999050       1565212483     246\n",
       "244124         MainScreenAppear  5746969938801999050       1565212498     246\n",
       "244125       OffersScreenAppear  5746969938801999050       1565212517     246\n",
       "\n",
       "[243713 rows x 4 columns]"
      ]
     },
     "execution_count": 5,
     "metadata": {},
     "output_type": "execute_result"
    }
   ],
   "source": [
    "data.drop_duplicates(inplace=True)\n",
    "data.columns = ['event_name','device_id_hash','event_timestamp','exp_id']\n",
    "data"
   ]
  },
  {
   "cell_type": "code",
   "execution_count": 6,
   "id": "05e56a99",
   "metadata": {},
   "outputs": [
    {
     "data": {
      "text/html": [
       "<div>\n",
       "<style scoped>\n",
       "    .dataframe tbody tr th:only-of-type {\n",
       "        vertical-align: middle;\n",
       "    }\n",
       "\n",
       "    .dataframe tbody tr th {\n",
       "        vertical-align: top;\n",
       "    }\n",
       "\n",
       "    .dataframe thead th {\n",
       "        text-align: right;\n",
       "    }\n",
       "</style>\n",
       "<table border=\"1\" class=\"dataframe\">\n",
       "  <thead>\n",
       "    <tr style=\"text-align: right;\">\n",
       "      <th></th>\n",
       "      <th>event_name</th>\n",
       "      <th>device_id_hash</th>\n",
       "      <th>event_timestamp</th>\n",
       "      <th>exp_id</th>\n",
       "      <th>event_datetime</th>\n",
       "      <th>event_date</th>\n",
       "    </tr>\n",
       "  </thead>\n",
       "  <tbody>\n",
       "    <tr>\n",
       "      <th>0</th>\n",
       "      <td>MainScreenAppear</td>\n",
       "      <td>4575588528974610257</td>\n",
       "      <td>1564029816</td>\n",
       "      <td>246</td>\n",
       "      <td>2019-07-25 04:43:36</td>\n",
       "      <td>2019-07-25</td>\n",
       "    </tr>\n",
       "    <tr>\n",
       "      <th>1</th>\n",
       "      <td>MainScreenAppear</td>\n",
       "      <td>7416695313311560658</td>\n",
       "      <td>1564053102</td>\n",
       "      <td>246</td>\n",
       "      <td>2019-07-25 11:11:42</td>\n",
       "      <td>2019-07-25</td>\n",
       "    </tr>\n",
       "    <tr>\n",
       "      <th>2</th>\n",
       "      <td>PaymentScreenSuccessful</td>\n",
       "      <td>3518123091307005509</td>\n",
       "      <td>1564054127</td>\n",
       "      <td>248</td>\n",
       "      <td>2019-07-25 11:28:47</td>\n",
       "      <td>2019-07-25</td>\n",
       "    </tr>\n",
       "    <tr>\n",
       "      <th>3</th>\n",
       "      <td>CartScreenAppear</td>\n",
       "      <td>3518123091307005509</td>\n",
       "      <td>1564054127</td>\n",
       "      <td>248</td>\n",
       "      <td>2019-07-25 11:28:47</td>\n",
       "      <td>2019-07-25</td>\n",
       "    </tr>\n",
       "    <tr>\n",
       "      <th>4</th>\n",
       "      <td>PaymentScreenSuccessful</td>\n",
       "      <td>6217807653094995999</td>\n",
       "      <td>1564055322</td>\n",
       "      <td>248</td>\n",
       "      <td>2019-07-25 11:48:42</td>\n",
       "      <td>2019-07-25</td>\n",
       "    </tr>\n",
       "    <tr>\n",
       "      <th>...</th>\n",
       "      <td>...</td>\n",
       "      <td>...</td>\n",
       "      <td>...</td>\n",
       "      <td>...</td>\n",
       "      <td>...</td>\n",
       "      <td>...</td>\n",
       "    </tr>\n",
       "    <tr>\n",
       "      <th>244121</th>\n",
       "      <td>MainScreenAppear</td>\n",
       "      <td>4599628364049201812</td>\n",
       "      <td>1565212345</td>\n",
       "      <td>247</td>\n",
       "      <td>2019-08-07 21:12:25</td>\n",
       "      <td>2019-08-07</td>\n",
       "    </tr>\n",
       "    <tr>\n",
       "      <th>244122</th>\n",
       "      <td>MainScreenAppear</td>\n",
       "      <td>5849806612437486590</td>\n",
       "      <td>1565212439</td>\n",
       "      <td>246</td>\n",
       "      <td>2019-08-07 21:13:59</td>\n",
       "      <td>2019-08-07</td>\n",
       "    </tr>\n",
       "    <tr>\n",
       "      <th>244123</th>\n",
       "      <td>MainScreenAppear</td>\n",
       "      <td>5746969938801999050</td>\n",
       "      <td>1565212483</td>\n",
       "      <td>246</td>\n",
       "      <td>2019-08-07 21:14:43</td>\n",
       "      <td>2019-08-07</td>\n",
       "    </tr>\n",
       "    <tr>\n",
       "      <th>244124</th>\n",
       "      <td>MainScreenAppear</td>\n",
       "      <td>5746969938801999050</td>\n",
       "      <td>1565212498</td>\n",
       "      <td>246</td>\n",
       "      <td>2019-08-07 21:14:58</td>\n",
       "      <td>2019-08-07</td>\n",
       "    </tr>\n",
       "    <tr>\n",
       "      <th>244125</th>\n",
       "      <td>OffersScreenAppear</td>\n",
       "      <td>5746969938801999050</td>\n",
       "      <td>1565212517</td>\n",
       "      <td>246</td>\n",
       "      <td>2019-08-07 21:15:17</td>\n",
       "      <td>2019-08-07</td>\n",
       "    </tr>\n",
       "  </tbody>\n",
       "</table>\n",
       "<p>243713 rows × 6 columns</p>\n",
       "</div>"
      ],
      "text/plain": [
       "                     event_name       device_id_hash  event_timestamp  exp_id  \\\n",
       "0              MainScreenAppear  4575588528974610257       1564029816     246   \n",
       "1              MainScreenAppear  7416695313311560658       1564053102     246   \n",
       "2       PaymentScreenSuccessful  3518123091307005509       1564054127     248   \n",
       "3              CartScreenAppear  3518123091307005509       1564054127     248   \n",
       "4       PaymentScreenSuccessful  6217807653094995999       1564055322     248   \n",
       "...                         ...                  ...              ...     ...   \n",
       "244121         MainScreenAppear  4599628364049201812       1565212345     247   \n",
       "244122         MainScreenAppear  5849806612437486590       1565212439     246   \n",
       "244123         MainScreenAppear  5746969938801999050       1565212483     246   \n",
       "244124         MainScreenAppear  5746969938801999050       1565212498     246   \n",
       "244125       OffersScreenAppear  5746969938801999050       1565212517     246   \n",
       "\n",
       "            event_datetime event_date  \n",
       "0      2019-07-25 04:43:36 2019-07-25  \n",
       "1      2019-07-25 11:11:42 2019-07-25  \n",
       "2      2019-07-25 11:28:47 2019-07-25  \n",
       "3      2019-07-25 11:28:47 2019-07-25  \n",
       "4      2019-07-25 11:48:42 2019-07-25  \n",
       "...                    ...        ...  \n",
       "244121 2019-08-07 21:12:25 2019-08-07  \n",
       "244122 2019-08-07 21:13:59 2019-08-07  \n",
       "244123 2019-08-07 21:14:43 2019-08-07  \n",
       "244124 2019-08-07 21:14:58 2019-08-07  \n",
       "244125 2019-08-07 21:15:17 2019-08-07  \n",
       "\n",
       "[243713 rows x 6 columns]"
      ]
     },
     "execution_count": 6,
     "metadata": {},
     "output_type": "execute_result"
    }
   ],
   "source": [
    "data['event_datetime'] = pd.to_datetime(data['event_timestamp'], unit='s')\n",
    "data['event_date'] = data['event_datetime'].dt.floor('1D')\n",
    "data"
   ]
  },
  {
   "cell_type": "markdown",
   "id": "87a32efe",
   "metadata": {},
   "source": [
    "Как и планировалось, мы удалили дубликаты, исправил названия столбцов, а также создали два столбца: event_datetime (с датой и временем) и event_date (с датой). Данные обработаны, можем переходить к их изучению."
   ]
  },
  {
   "cell_type": "markdown",
   "id": "fd44e816",
   "metadata": {},
   "source": [
    "## Изучение и проверка данных"
   ]
  },
  {
   "cell_type": "code",
   "execution_count": 7,
   "id": "c710a391",
   "metadata": {},
   "outputs": [
    {
     "name": "stdout",
     "output_type": "stream",
     "text": [
      "Количество событий: 5\n",
      "Количество пользователей: 7551\n",
      "Среднее количество событий на пользователя: 32.28\n"
     ]
    }
   ],
   "source": [
    "print('Количество событий:', len(data['event_name'].unique()))\n",
    "print('Количество пользователей:', len(data['device_id_hash'].unique()))\n",
    "\n",
    "events_per_users = data.groupby('device_id_hash', as_index=False).agg({'event_name':'count'})\n",
    "print('Среднее количество событий на пользователя:',\n",
    "     events_per_users['event_name']\n",
    "     .mean().round(2))"
   ]
  },
  {
   "cell_type": "code",
   "execution_count": 8,
   "id": "ec56351c",
   "metadata": {},
   "outputs": [
    {
     "data": {
      "image/png": "[encoded data removed]",
      "text/plain": [
       "<Figure size 1152x576 with 1 Axes>"
      ]
     },
     "metadata": {
      "needs_background": "light"
     },
     "output_type": "display_data"
    }
   ],
   "source": [
    "x_value = pd.Series(range(0,len(events_per_users['device_id_hash'])))\n",
    "plt.figure(figsize=(16,8))\n",
    "plt.scatter(x_value,events_per_users['event_name'])\n",
    "plt.title('Количество событий по пользователям')\n",
    "plt.ylabel('Количество');"
   ]
  },
  {
   "cell_type": "code",
   "execution_count": 9,
   "id": "02df6da3",
   "metadata": {},
   "outputs": [
    {
     "data": {
      "image/png": "[encoded data removed]",
      "text/plain": [
       "<Figure size 1152x576 with 1 Axes>"
      ]
     },
     "metadata": {
      "needs_background": "light"
     },
     "output_type": "display_data"
    }
   ],
   "source": [
    "plt.figure(figsize=(16,8))\n",
    "plt.ylim([0,160])\n",
    "plt.scatter(x_value,events_per_users['event_name'])\n",
    "plt.title('Количество событий по пользователям')\n",
    "plt.ylabel('Количество');"
   ]
  },
  {
   "cell_type": "markdown",
   "id": "7251db3c",
   "metadata": {},
   "source": [
    "На первом графике видны явные аномалии: количество событий достигает 1000, 1500 и даже больше 2000. Ограничив ось У, количество точек увеличивается приближаясь к 0. Вполне вероятно, что рассчитанное среднее количество событий равное 32.33 является правдой."
   ]
  },
  {
   "cell_type": "code",
   "execution_count": 10,
   "id": "3a4fe0bf",
   "metadata": {},
   "outputs": [
    {
     "data": {
      "text/plain": [
       "array([ 64. ,  89. , 200.5])"
      ]
     },
     "execution_count": 10,
     "metadata": {},
     "output_type": "execute_result"
    }
   ],
   "source": [
    "pctl_events = np.percentile(events_per_users['event_name'], [90, 95, 99])\n",
    "pctl_events"
   ]
  },
  {
   "cell_type": "markdown",
   "id": "219379e9",
   "metadata": {},
   "source": [
    "Лишь у 5% пользователей количество событий достигает 90."
   ]
  },
  {
   "cell_type": "code",
   "execution_count": 11,
   "id": "03892450",
   "metadata": {},
   "outputs": [
    {
     "name": "stdout",
     "output_type": "stream",
     "text": [
      "Начало периода: 2019-Jul-25\n",
      "Конец периода: 2019-Aug-07\n"
     ]
    }
   ],
   "source": [
    "print('Начало периода:', data['event_date'].min().strftime('%Y-%b-%d'))\n",
    "print('Конец периода:', data['event_date'].max().strftime('%Y-%b-%d'))"
   ]
  },
  {
   "cell_type": "code",
   "execution_count": 12,
   "id": "d650b838",
   "metadata": {},
   "outputs": [
    {
     "data": {
      "image/png": "[encoded data removed]",
      "text/plain": [
       "<Figure size 1152x576 with 1 Axes>"
      ]
     },
     "metadata": {
      "needs_background": "light"
     },
     "output_type": "display_data"
    }
   ],
   "source": [
    "df_plot = pd.crosstab(\n",
    "    pd.cut(\n",
    "        x=data['event_date'],\n",
    "        bins=data['event_date'].unique(),\n",
    "    ),\n",
    "    data['event_name']\n",
    ")\n",
    "\n",
    "\n",
    "\n",
    "df_plot.plot.bar(stacked=True, figsize=(16,8))\n",
    "\n",
    "plt.title('Количество событий в день')\n",
    "plt.legend()\n",
    "plt.xlabel('Дата')\n",
    "plt.xticks(rotation=30)\n",
    "\n",
    "plt.ylabel('Количество событий')\n",
    "\n",
    "plt.show();"
   ]
  },
  {
   "cell_type": "markdown",
   "id": "b43d2648",
   "metadata": {},
   "source": [
    "Две важные особенности, которые мы можем подчерпнуть из данного графика:\n",
    "\n",
    "1. Достаточное количество данных есть, начиная с 31.07.2019.\n",
    "2. Наибольшее количество раз встречается событие \"MainScreenAppear\", оно занимает оранжевую часть графика."
   ]
  },
  {
   "cell_type": "code",
   "execution_count": 13,
   "id": "b4a24aa0",
   "metadata": {},
   "outputs": [
    {
     "name": "stdout",
     "output_type": "stream",
     "text": [
      "Доля потерянных событий: 0.01159560630741896\n",
      "Доля потерянных пользователей: 0.0022513574361011646\n"
     ]
    },
    {
     "data": {
      "text/html": [
       "<div>\n",
       "<style scoped>\n",
       "    .dataframe tbody tr th:only-of-type {\n",
       "        vertical-align: middle;\n",
       "    }\n",
       "\n",
       "    .dataframe tbody tr th {\n",
       "        vertical-align: top;\n",
       "    }\n",
       "\n",
       "    .dataframe thead th {\n",
       "        text-align: right;\n",
       "    }\n",
       "</style>\n",
       "<table border=\"1\" class=\"dataframe\">\n",
       "  <thead>\n",
       "    <tr style=\"text-align: right;\">\n",
       "      <th></th>\n",
       "      <th>event_name</th>\n",
       "      <th>device_id_hash</th>\n",
       "      <th>event_timestamp</th>\n",
       "      <th>exp_id</th>\n",
       "      <th>event_datetime</th>\n",
       "      <th>event_date</th>\n",
       "    </tr>\n",
       "  </thead>\n",
       "  <tbody>\n",
       "    <tr>\n",
       "      <th>2828</th>\n",
       "      <td>Tutorial</td>\n",
       "      <td>3737462046622621720</td>\n",
       "      <td>1564618048</td>\n",
       "      <td>246</td>\n",
       "      <td>2019-08-01 00:07:28</td>\n",
       "      <td>2019-08-01</td>\n",
       "    </tr>\n",
       "    <tr>\n",
       "      <th>2829</th>\n",
       "      <td>MainScreenAppear</td>\n",
       "      <td>3737462046622621720</td>\n",
       "      <td>1564618080</td>\n",
       "      <td>246</td>\n",
       "      <td>2019-08-01 00:08:00</td>\n",
       "      <td>2019-08-01</td>\n",
       "    </tr>\n",
       "    <tr>\n",
       "      <th>2830</th>\n",
       "      <td>MainScreenAppear</td>\n",
       "      <td>3737462046622621720</td>\n",
       "      <td>1564618135</td>\n",
       "      <td>246</td>\n",
       "      <td>2019-08-01 00:08:55</td>\n",
       "      <td>2019-08-01</td>\n",
       "    </tr>\n",
       "    <tr>\n",
       "      <th>2831</th>\n",
       "      <td>OffersScreenAppear</td>\n",
       "      <td>3737462046622621720</td>\n",
       "      <td>1564618138</td>\n",
       "      <td>246</td>\n",
       "      <td>2019-08-01 00:08:58</td>\n",
       "      <td>2019-08-01</td>\n",
       "    </tr>\n",
       "    <tr>\n",
       "      <th>2832</th>\n",
       "      <td>MainScreenAppear</td>\n",
       "      <td>1433840883824088890</td>\n",
       "      <td>1564618139</td>\n",
       "      <td>247</td>\n",
       "      <td>2019-08-01 00:08:59</td>\n",
       "      <td>2019-08-01</td>\n",
       "    </tr>\n",
       "    <tr>\n",
       "      <th>...</th>\n",
       "      <td>...</td>\n",
       "      <td>...</td>\n",
       "      <td>...</td>\n",
       "      <td>...</td>\n",
       "      <td>...</td>\n",
       "      <td>...</td>\n",
       "    </tr>\n",
       "    <tr>\n",
       "      <th>244121</th>\n",
       "      <td>MainScreenAppear</td>\n",
       "      <td>4599628364049201812</td>\n",
       "      <td>1565212345</td>\n",
       "      <td>247</td>\n",
       "      <td>2019-08-07 21:12:25</td>\n",
       "      <td>2019-08-07</td>\n",
       "    </tr>\n",
       "    <tr>\n",
       "      <th>244122</th>\n",
       "      <td>MainScreenAppear</td>\n",
       "      <td>5849806612437486590</td>\n",
       "      <td>1565212439</td>\n",
       "      <td>246</td>\n",
       "      <td>2019-08-07 21:13:59</td>\n",
       "      <td>2019-08-07</td>\n",
       "    </tr>\n",
       "    <tr>\n",
       "      <th>244123</th>\n",
       "      <td>MainScreenAppear</td>\n",
       "      <td>5746969938801999050</td>\n",
       "      <td>1565212483</td>\n",
       "      <td>246</td>\n",
       "      <td>2019-08-07 21:14:43</td>\n",
       "      <td>2019-08-07</td>\n",
       "    </tr>\n",
       "    <tr>\n",
       "      <th>244124</th>\n",
       "      <td>MainScreenAppear</td>\n",
       "      <td>5746969938801999050</td>\n",
       "      <td>1565212498</td>\n",
       "      <td>246</td>\n",
       "      <td>2019-08-07 21:14:58</td>\n",
       "      <td>2019-08-07</td>\n",
       "    </tr>\n",
       "    <tr>\n",
       "      <th>244125</th>\n",
       "      <td>OffersScreenAppear</td>\n",
       "      <td>5746969938801999050</td>\n",
       "      <td>1565212517</td>\n",
       "      <td>246</td>\n",
       "      <td>2019-08-07 21:15:17</td>\n",
       "      <td>2019-08-07</td>\n",
       "    </tr>\n",
       "  </tbody>\n",
       "</table>\n",
       "<p>240887 rows × 6 columns</p>\n",
       "</div>"
      ],
      "text/plain": [
       "                event_name       device_id_hash  event_timestamp  exp_id  \\\n",
       "2828              Tutorial  3737462046622621720       1564618048     246   \n",
       "2829      MainScreenAppear  3737462046622621720       1564618080     246   \n",
       "2830      MainScreenAppear  3737462046622621720       1564618135     246   \n",
       "2831    OffersScreenAppear  3737462046622621720       1564618138     246   \n",
       "2832      MainScreenAppear  1433840883824088890       1564618139     247   \n",
       "...                    ...                  ...              ...     ...   \n",
       "244121    MainScreenAppear  4599628364049201812       1565212345     247   \n",
       "244122    MainScreenAppear  5849806612437486590       1565212439     246   \n",
       "244123    MainScreenAppear  5746969938801999050       1565212483     246   \n",
       "244124    MainScreenAppear  5746969938801999050       1565212498     246   \n",
       "244125  OffersScreenAppear  5746969938801999050       1565212517     246   \n",
       "\n",
       "            event_datetime event_date  \n",
       "2828   2019-08-01 00:07:28 2019-08-01  \n",
       "2829   2019-08-01 00:08:00 2019-08-01  \n",
       "2830   2019-08-01 00:08:55 2019-08-01  \n",
       "2831   2019-08-01 00:08:58 2019-08-01  \n",
       "2832   2019-08-01 00:08:59 2019-08-01  \n",
       "...                    ...        ...  \n",
       "244121 2019-08-07 21:12:25 2019-08-07  \n",
       "244122 2019-08-07 21:13:59 2019-08-07  \n",
       "244123 2019-08-07 21:14:43 2019-08-07  \n",
       "244124 2019-08-07 21:14:58 2019-08-07  \n",
       "244125 2019-08-07 21:15:17 2019-08-07  \n",
       "\n",
       "[240887 rows x 6 columns]"
      ]
     },
     "execution_count": 13,
     "metadata": {},
     "output_type": "execute_result"
    }
   ],
   "source": [
    "df = data.query('event_date > \"2019-07-31\"')\n",
    "print('Доля потерянных событий: {}'.format(1-len(df['event_name'])/len(data['event_name'])))\n",
    "print('Доля потерянных пользователей: {}'.format(1-len(df['device_id_hash'].unique())/len(data['device_id_hash'].unique())))\n",
    "df"
   ]
  },
  {
   "cell_type": "code",
   "execution_count": 14,
   "id": "f63c9a39",
   "metadata": {},
   "outputs": [
    {
     "name": "stderr",
     "output_type": "stream",
     "text": [
      "C:\\Users\\User\\AppData\\Local\\Temp\\ipykernel_15828\\1417676849.py:10: SettingWithCopyWarning: \n",
      "A value is trying to be set on a copy of a slice from a DataFrame.\n",
      "Try using .loc[row_indexer,col_indexer] = value instead\n",
      "\n",
      "See the caveats in the documentation: https://pandas.pydata.org/pandas-docs/stable/user_guide/indexing.html#returning-a-view-versus-a-copy\n",
      "  df['exp_id'] = df['exp_id'].apply(change_group_name)\n"
     ]
    },
    {
     "data": {
      "text/html": [
       "<div>\n",
       "<style scoped>\n",
       "    .dataframe tbody tr th:only-of-type {\n",
       "        vertical-align: middle;\n",
       "    }\n",
       "\n",
       "    .dataframe tbody tr th {\n",
       "        vertical-align: top;\n",
       "    }\n",
       "\n",
       "    .dataframe thead th {\n",
       "        text-align: right;\n",
       "    }\n",
       "</style>\n",
       "<table border=\"1\" class=\"dataframe\">\n",
       "  <thead>\n",
       "    <tr style=\"text-align: right;\">\n",
       "      <th></th>\n",
       "      <th>event_name</th>\n",
       "      <th>device_id_hash</th>\n",
       "      <th>event_timestamp</th>\n",
       "      <th>exp_id</th>\n",
       "      <th>event_datetime</th>\n",
       "      <th>event_date</th>\n",
       "    </tr>\n",
       "  </thead>\n",
       "  <tbody>\n",
       "    <tr>\n",
       "      <th>2828</th>\n",
       "      <td>Tutorial</td>\n",
       "      <td>3737462046622621720</td>\n",
       "      <td>1564618048</td>\n",
       "      <td>A1</td>\n",
       "      <td>2019-08-01 00:07:28</td>\n",
       "      <td>2019-08-01</td>\n",
       "    </tr>\n",
       "    <tr>\n",
       "      <th>2829</th>\n",
       "      <td>MainScreenAppear</td>\n",
       "      <td>3737462046622621720</td>\n",
       "      <td>1564618080</td>\n",
       "      <td>A1</td>\n",
       "      <td>2019-08-01 00:08:00</td>\n",
       "      <td>2019-08-01</td>\n",
       "    </tr>\n",
       "    <tr>\n",
       "      <th>2830</th>\n",
       "      <td>MainScreenAppear</td>\n",
       "      <td>3737462046622621720</td>\n",
       "      <td>1564618135</td>\n",
       "      <td>A1</td>\n",
       "      <td>2019-08-01 00:08:55</td>\n",
       "      <td>2019-08-01</td>\n",
       "    </tr>\n",
       "    <tr>\n",
       "      <th>2831</th>\n",
       "      <td>OffersScreenAppear</td>\n",
       "      <td>3737462046622621720</td>\n",
       "      <td>1564618138</td>\n",
       "      <td>A1</td>\n",
       "      <td>2019-08-01 00:08:58</td>\n",
       "      <td>2019-08-01</td>\n",
       "    </tr>\n",
       "    <tr>\n",
       "      <th>2832</th>\n",
       "      <td>MainScreenAppear</td>\n",
       "      <td>1433840883824088890</td>\n",
       "      <td>1564618139</td>\n",
       "      <td>A2</td>\n",
       "      <td>2019-08-01 00:08:59</td>\n",
       "      <td>2019-08-01</td>\n",
       "    </tr>\n",
       "  </tbody>\n",
       "</table>\n",
       "</div>"
      ],
      "text/plain": [
       "              event_name       device_id_hash  event_timestamp exp_id  \\\n",
       "2828            Tutorial  3737462046622621720       1564618048     A1   \n",
       "2829    MainScreenAppear  3737462046622621720       1564618080     A1   \n",
       "2830    MainScreenAppear  3737462046622621720       1564618135     A1   \n",
       "2831  OffersScreenAppear  3737462046622621720       1564618138     A1   \n",
       "2832    MainScreenAppear  1433840883824088890       1564618139     A2   \n",
       "\n",
       "          event_datetime event_date  \n",
       "2828 2019-08-01 00:07:28 2019-08-01  \n",
       "2829 2019-08-01 00:08:00 2019-08-01  \n",
       "2830 2019-08-01 00:08:55 2019-08-01  \n",
       "2831 2019-08-01 00:08:58 2019-08-01  \n",
       "2832 2019-08-01 00:08:59 2019-08-01  "
      ]
     },
     "execution_count": 14,
     "metadata": {},
     "output_type": "execute_result"
    }
   ],
   "source": [
    "#Переименуем группы, для функции далее\n",
    "def change_group_name(group):\n",
    "    if group == 246:\n",
    "        return 'A1'\n",
    "    elif group == 247:\n",
    "        return 'A2'\n",
    "    elif group == 248:\n",
    "        return 'B'\n",
    "    \n",
    "df['exp_id'] = df['exp_id'].apply(change_group_name)\n",
    "df.head(5)"
   ]
  },
  {
   "cell_type": "code",
   "execution_count": 15,
   "id": "b8384962",
   "metadata": {},
   "outputs": [
    {
     "data": {
      "text/html": [
       "<div>\n",
       "<style scoped>\n",
       "    .dataframe tbody tr th:only-of-type {\n",
       "        vertical-align: middle;\n",
       "    }\n",
       "\n",
       "    .dataframe tbody tr th {\n",
       "        vertical-align: top;\n",
       "    }\n",
       "\n",
       "    .dataframe thead th {\n",
       "        text-align: right;\n",
       "    }\n",
       "</style>\n",
       "<table border=\"1\" class=\"dataframe\">\n",
       "  <thead>\n",
       "    <tr style=\"text-align: right;\">\n",
       "      <th></th>\n",
       "      <th>exp_id</th>\n",
       "      <th>device_id_hash</th>\n",
       "      <th>diff</th>\n",
       "    </tr>\n",
       "  </thead>\n",
       "  <tbody>\n",
       "    <tr>\n",
       "      <th>0</th>\n",
       "      <td>A1</td>\n",
       "      <td>2484</td>\n",
       "      <td>0.00</td>\n",
       "    </tr>\n",
       "    <tr>\n",
       "      <th>1</th>\n",
       "      <td>A2</td>\n",
       "      <td>2513</td>\n",
       "      <td>1.17</td>\n",
       "    </tr>\n",
       "    <tr>\n",
       "      <th>2</th>\n",
       "      <td>B</td>\n",
       "      <td>2537</td>\n",
       "      <td>2.13</td>\n",
       "    </tr>\n",
       "  </tbody>\n",
       "</table>\n",
       "</div>"
      ],
      "text/plain": [
       "  exp_id  device_id_hash  diff\n",
       "0     A1            2484  0.00\n",
       "1     A2            2513  1.17\n",
       "2      B            2537  2.13"
      ]
     },
     "execution_count": 15,
     "metadata": {},
     "output_type": "execute_result"
    }
   ],
   "source": [
    "exp_count = df.groupby('exp_id').agg({'device_id_hash':'nunique'}).reset_index()\n",
    "exp_count['diff'] = ((exp_count['device_id_hash']/exp_count.loc[0,'device_id_hash']-1)*100).round(2)\n",
    "exp_count"
   ]
  },
  {
   "cell_type": "markdown",
   "id": "43d5d21c",
   "metadata": {},
   "source": [
    "Группы разбиты практически в равном соотношении, разница не превышает 2.5%."
   ]
  },
  {
   "cell_type": "markdown",
   "id": "cf895957",
   "metadata": {},
   "source": [
    "## Воронка событий"
   ]
  },
  {
   "cell_type": "code",
   "execution_count": 16,
   "id": "0860ad8f",
   "metadata": {},
   "outputs": [
    {
     "data": {
      "text/html": [
       "<div>\n",
       "<style scoped>\n",
       "    .dataframe tbody tr th:only-of-type {\n",
       "        vertical-align: middle;\n",
       "    }\n",
       "\n",
       "    .dataframe tbody tr th {\n",
       "        vertical-align: top;\n",
       "    }\n",
       "\n",
       "    .dataframe thead th {\n",
       "        text-align: right;\n",
       "    }\n",
       "</style>\n",
       "<table border=\"1\" class=\"dataframe\">\n",
       "  <thead>\n",
       "    <tr style=\"text-align: right;\">\n",
       "      <th></th>\n",
       "      <th>event_name</th>\n",
       "      <th>total</th>\n",
       "      <th>users</th>\n",
       "    </tr>\n",
       "  </thead>\n",
       "  <tbody>\n",
       "    <tr>\n",
       "      <th>0</th>\n",
       "      <td>MainScreenAppear</td>\n",
       "      <td>117328</td>\n",
       "      <td>7419</td>\n",
       "    </tr>\n",
       "    <tr>\n",
       "      <th>1</th>\n",
       "      <td>OffersScreenAppear</td>\n",
       "      <td>46333</td>\n",
       "      <td>4593</td>\n",
       "    </tr>\n",
       "    <tr>\n",
       "      <th>2</th>\n",
       "      <td>CartScreenAppear</td>\n",
       "      <td>42303</td>\n",
       "      <td>3734</td>\n",
       "    </tr>\n",
       "    <tr>\n",
       "      <th>3</th>\n",
       "      <td>PaymentScreenSuccessful</td>\n",
       "      <td>33918</td>\n",
       "      <td>3539</td>\n",
       "    </tr>\n",
       "    <tr>\n",
       "      <th>4</th>\n",
       "      <td>Tutorial</td>\n",
       "      <td>1005</td>\n",
       "      <td>840</td>\n",
       "    </tr>\n",
       "  </tbody>\n",
       "</table>\n",
       "</div>"
      ],
      "text/plain": [
       "                event_name   total  users\n",
       "0         MainScreenAppear  117328   7419\n",
       "1       OffersScreenAppear   46333   4593\n",
       "2         CartScreenAppear   42303   3734\n",
       "3  PaymentScreenSuccessful   33918   3539\n",
       "4                 Tutorial    1005    840"
      ]
     },
     "execution_count": 16,
     "metadata": {},
     "output_type": "execute_result"
    }
   ],
   "source": [
    "df_event = (\n",
    "    df.groupby('event_name')\n",
    "    .agg({'event_date':'count','device_id_hash':'nunique'})\n",
    "    .sort_values(by='event_date', ascending=False)\n",
    "    .reset_index()\n",
    ")\n",
    "df_event.columns = ['event_name','total', 'users']\n",
    "df_event"
   ]
  },
  {
   "cell_type": "markdown",
   "id": "14d81115",
   "metadata": {},
   "source": [
    "Наиболее частое событие - открытие главного экрана, очевидно, что данный пункт нельзя пропустить, чтобы приобрести товар. Следующем по количеству идет OffersScreenAppear, около 4,5 тыс переходов. Затем идут шаги: CartScreenAppear и PaymentScreenSuccessfulю. Наименьшее количество переходов в раздел Tutorial, скорее всего переход в данный раздел необязательный для покупки товаров."
   ]
  },
  {
   "cell_type": "code",
   "execution_count": 17,
   "id": "a5ef29bd",
   "metadata": {},
   "outputs": [
    {
     "data": {
      "text/html": [
       "<div>\n",
       "<style scoped>\n",
       "    .dataframe tbody tr th:only-of-type {\n",
       "        vertical-align: middle;\n",
       "    }\n",
       "\n",
       "    .dataframe tbody tr th {\n",
       "        vertical-align: top;\n",
       "    }\n",
       "\n",
       "    .dataframe thead th {\n",
       "        text-align: right;\n",
       "    }\n",
       "</style>\n",
       "<table border=\"1\" class=\"dataframe\">\n",
       "  <thead>\n",
       "    <tr style=\"text-align: right;\">\n",
       "      <th></th>\n",
       "      <th>event_name</th>\n",
       "      <th>total</th>\n",
       "      <th>users</th>\n",
       "    </tr>\n",
       "  </thead>\n",
       "  <tbody>\n",
       "    <tr>\n",
       "      <th>0</th>\n",
       "      <td>MainScreenAppear</td>\n",
       "      <td>117328</td>\n",
       "      <td>7419</td>\n",
       "    </tr>\n",
       "    <tr>\n",
       "      <th>1</th>\n",
       "      <td>OffersScreenAppear</td>\n",
       "      <td>46333</td>\n",
       "      <td>4593</td>\n",
       "    </tr>\n",
       "    <tr>\n",
       "      <th>2</th>\n",
       "      <td>CartScreenAppear</td>\n",
       "      <td>42303</td>\n",
       "      <td>3734</td>\n",
       "    </tr>\n",
       "    <tr>\n",
       "      <th>3</th>\n",
       "      <td>PaymentScreenSuccessful</td>\n",
       "      <td>33918</td>\n",
       "      <td>3539</td>\n",
       "    </tr>\n",
       "  </tbody>\n",
       "</table>\n",
       "</div>"
      ],
      "text/plain": [
       "                event_name   total  users\n",
       "0         MainScreenAppear  117328   7419\n",
       "1       OffersScreenAppear   46333   4593\n",
       "2         CartScreenAppear   42303   3734\n",
       "3  PaymentScreenSuccessful   33918   3539"
      ]
     },
     "execution_count": 17,
     "metadata": {},
     "output_type": "execute_result"
    }
   ],
   "source": [
    "df_event = df_event[:4]\n",
    "df_event"
   ]
  },
  {
   "cell_type": "code",
   "execution_count": 18,
   "id": "da9263fd",
   "metadata": {},
   "outputs": [
    {
     "data": {
      "image/png": "[encoded data removed]",
      "text/plain": [
       "<Figure size 1152x576 with 1 Axes>"
      ]
     },
     "metadata": {
      "needs_background": "light"
     },
     "output_type": "display_data"
    }
   ],
   "source": [
    "plt.figure(figsize=(16,8))\n",
    "df.loc[df['event_name'] != 'Tutorial']['event_name'].hist()\n",
    "plt.title('Частота событий')\n",
    "plt.ylabel('Количество пользоватлей')\n",
    "plt.xlabel('Целевое действие')\n",
    "plt.show()"
   ]
  },
  {
   "cell_type": "code",
   "execution_count": 19,
   "id": "661026b3",
   "metadata": {},
   "outputs": [
    {
     "data": {
      "image/png": "[encoded data removed]",
      "text/plain": [
       "<Figure size 1152x576 with 1 Axes>"
      ]
     },
     "metadata": {
      "needs_background": "light"
     },
     "output_type": "display_data"
    }
   ],
   "source": [
    "df_event.plot(x='event_name', y='users',kind='bar', figsize=(16,8))\n",
    "\n",
    "plt.title('Воронка событий')\n",
    "plt.ylabel('Количество уникальных пользователей')\n",
    "plt.xlabel('Наименование события')\n",
    "plt.xticks(rotation=45)\n",
    "plt.show()"
   ]
  },
  {
   "cell_type": "markdown",
   "id": "ccd92621",
   "metadata": {},
   "source": [
    "Наиболее частое событие - открытие главного экрана, очевидно, что данный пункт нельзя пропустить, чтобы приобрести товар. Следующем по количеству идет OffersScreenAppear, около 4,5 тыс переходов. Затем идут шаги: CartScreenAppear и PaymentScreenSuccessful."
   ]
  },
  {
   "cell_type": "code",
   "execution_count": 20,
   "id": "072db5b8",
   "metadata": {},
   "outputs": [
    {
     "name": "stderr",
     "output_type": "stream",
     "text": [
      "C:\\Users\\User\\AppData\\Local\\Temp\\ipykernel_15828\\986058958.py:1: SettingWithCopyWarning: \n",
      "A value is trying to be set on a copy of a slice from a DataFrame.\n",
      "Try using .loc[row_indexer,col_indexer] = value instead\n",
      "\n",
      "See the caveats in the documentation: https://pandas.pydata.org/pandas-docs/stable/user_guide/indexing.html#returning-a-view-versus-a-copy\n",
      "  df_event['ratio'] = (df_event['users'] / len(df['device_id_hash'].unique())*100).round(2)\n",
      "C:\\Users\\User\\AppData\\Local\\Temp\\ipykernel_15828\\986058958.py:2: SettingWithCopyWarning: \n",
      "A value is trying to be set on a copy of a slice from a DataFrame.\n",
      "Try using .loc[row_indexer,col_indexer] = value instead\n",
      "\n",
      "See the caveats in the documentation: https://pandas.pydata.org/pandas-docs/stable/user_guide/indexing.html#returning-a-view-versus-a-copy\n",
      "  df_event['ratio_step'] = (df_event['users']/df_event['users'].shift()*100).round(2)\n",
      "C:\\Users\\User\\anaconda3\\envs\\da_practicum_env\\lib\\site-packages\\pandas\\core\\indexing.py:1720: SettingWithCopyWarning: \n",
      "A value is trying to be set on a copy of a slice from a DataFrame.\n",
      "Try using .loc[row_indexer,col_indexer] = value instead\n",
      "\n",
      "See the caveats in the documentation: https://pandas.pydata.org/pandas-docs/stable/user_guide/indexing.html#returning-a-view-versus-a-copy\n",
      "  self._setitem_single_column(loc, value, pi)\n"
     ]
    },
    {
     "data": {
      "text/html": [
       "<div>\n",
       "<style scoped>\n",
       "    .dataframe tbody tr th:only-of-type {\n",
       "        vertical-align: middle;\n",
       "    }\n",
       "\n",
       "    .dataframe tbody tr th {\n",
       "        vertical-align: top;\n",
       "    }\n",
       "\n",
       "    .dataframe thead th {\n",
       "        text-align: right;\n",
       "    }\n",
       "</style>\n",
       "<table border=\"1\" class=\"dataframe\">\n",
       "  <thead>\n",
       "    <tr style=\"text-align: right;\">\n",
       "      <th></th>\n",
       "      <th>event_name</th>\n",
       "      <th>total</th>\n",
       "      <th>users</th>\n",
       "      <th>ratio</th>\n",
       "      <th>ratio_step</th>\n",
       "    </tr>\n",
       "  </thead>\n",
       "  <tbody>\n",
       "    <tr>\n",
       "      <th>0</th>\n",
       "      <td>MainScreenAppear</td>\n",
       "      <td>117328</td>\n",
       "      <td>7419</td>\n",
       "      <td>98.47</td>\n",
       "      <td>98.47</td>\n",
       "    </tr>\n",
       "    <tr>\n",
       "      <th>1</th>\n",
       "      <td>OffersScreenAppear</td>\n",
       "      <td>46333</td>\n",
       "      <td>4593</td>\n",
       "      <td>60.96</td>\n",
       "      <td>61.91</td>\n",
       "    </tr>\n",
       "    <tr>\n",
       "      <th>2</th>\n",
       "      <td>CartScreenAppear</td>\n",
       "      <td>42303</td>\n",
       "      <td>3734</td>\n",
       "      <td>49.56</td>\n",
       "      <td>81.30</td>\n",
       "    </tr>\n",
       "    <tr>\n",
       "      <th>3</th>\n",
       "      <td>PaymentScreenSuccessful</td>\n",
       "      <td>33918</td>\n",
       "      <td>3539</td>\n",
       "      <td>46.97</td>\n",
       "      <td>94.78</td>\n",
       "    </tr>\n",
       "  </tbody>\n",
       "</table>\n",
       "</div>"
      ],
      "text/plain": [
       "                event_name   total  users  ratio  ratio_step\n",
       "0         MainScreenAppear  117328   7419  98.47       98.47\n",
       "1       OffersScreenAppear   46333   4593  60.96       61.91\n",
       "2         CartScreenAppear   42303   3734  49.56       81.30\n",
       "3  PaymentScreenSuccessful   33918   3539  46.97       94.78"
      ]
     },
     "execution_count": 20,
     "metadata": {},
     "output_type": "execute_result"
    }
   ],
   "source": [
    "df_event['ratio'] = (df_event['users'] / len(df['device_id_hash'].unique())*100).round(2)\n",
    "df_event['ratio_step'] = (df_event['users']/df_event['users'].shift()*100).round(2)\n",
    "df_event.loc[0,'ratio_step'] = df_event.loc[0,'ratio']\n",
    "df_event"
   ]
  },
  {
   "cell_type": "markdown",
   "id": "bf517ee0",
   "metadata": {},
   "source": [
    "Всего 5 событий. События со следующими индексами последовательны: \n",
    "1. MainScreenAppear  \n",
    "2. OffersScreenAppear\n",
    "3. CartScreenAppear  \n",
    "4. PaymentScreenSuccessful  \n"
   ]
  },
  {
   "cell_type": "code",
   "execution_count": 21,
   "id": "9cbd5a87",
   "metadata": {},
   "outputs": [
    {
     "data": {
      "text/html": [
       "<div>\n",
       "<style scoped>\n",
       "    .dataframe tbody tr th:only-of-type {\n",
       "        vertical-align: middle;\n",
       "    }\n",
       "\n",
       "    .dataframe tbody tr th {\n",
       "        vertical-align: top;\n",
       "    }\n",
       "\n",
       "    .dataframe thead th {\n",
       "        text-align: right;\n",
       "    }\n",
       "</style>\n",
       "<table border=\"1\" class=\"dataframe\">\n",
       "  <thead>\n",
       "    <tr style=\"text-align: right;\">\n",
       "      <th></th>\n",
       "      <th>event_name</th>\n",
       "      <th>total</th>\n",
       "      <th>users</th>\n",
       "      <th>ratio</th>\n",
       "      <th>ratio_step</th>\n",
       "    </tr>\n",
       "  </thead>\n",
       "  <tbody>\n",
       "    <tr>\n",
       "      <th>0</th>\n",
       "      <td>MainScreenAppear</td>\n",
       "      <td>117328</td>\n",
       "      <td>7419</td>\n",
       "      <td>98.47</td>\n",
       "      <td>98.47</td>\n",
       "    </tr>\n",
       "    <tr>\n",
       "      <th>1</th>\n",
       "      <td>OffersScreenAppear</td>\n",
       "      <td>46333</td>\n",
       "      <td>4593</td>\n",
       "      <td>60.96</td>\n",
       "      <td>61.91</td>\n",
       "    </tr>\n",
       "    <tr>\n",
       "      <th>2</th>\n",
       "      <td>CartScreenAppear</td>\n",
       "      <td>42303</td>\n",
       "      <td>3734</td>\n",
       "      <td>49.56</td>\n",
       "      <td>81.30</td>\n",
       "    </tr>\n",
       "    <tr>\n",
       "      <th>3</th>\n",
       "      <td>PaymentScreenSuccessful</td>\n",
       "      <td>33918</td>\n",
       "      <td>3539</td>\n",
       "      <td>46.97</td>\n",
       "      <td>94.78</td>\n",
       "    </tr>\n",
       "  </tbody>\n",
       "</table>\n",
       "</div>"
      ],
      "text/plain": [
       "                event_name   total  users  ratio  ratio_step\n",
       "0         MainScreenAppear  117328   7419  98.47       98.47\n",
       "1       OffersScreenAppear   46333   4593  60.96       61.91\n",
       "2         CartScreenAppear   42303   3734  49.56       81.30\n",
       "3  PaymentScreenSuccessful   33918   3539  46.97       94.78"
      ]
     },
     "execution_count": 21,
     "metadata": {},
     "output_type": "execute_result"
    }
   ],
   "source": [
    "df_event = df_event[:4]\n",
    "df_event"
   ]
  },
  {
   "cell_type": "markdown",
   "id": "a5ef223b",
   "metadata": {},
   "source": [
    "Больше всего пользователей теряем на шаге \"добавление товара в корзину\", так как у него наименьший процент перехода = 60.64%. До оплаты доходит чуть меньше половины пользователей: 46.38%. По моему мнению, данный процент конвертации пользователей в покупателей очень неплох."
   ]
  },
  {
   "cell_type": "markdown",
   "id": "90e6444e",
   "metadata": {},
   "source": [
    "## Эксперимент"
   ]
  },
  {
   "cell_type": "code",
   "execution_count": 22,
   "id": "ce1f8a39",
   "metadata": {},
   "outputs": [
    {
     "data": {
      "text/html": [
       "<div>\n",
       "<style scoped>\n",
       "    .dataframe tbody tr th:only-of-type {\n",
       "        vertical-align: middle;\n",
       "    }\n",
       "\n",
       "    .dataframe tbody tr th {\n",
       "        vertical-align: top;\n",
       "    }\n",
       "\n",
       "    .dataframe thead th {\n",
       "        text-align: right;\n",
       "    }\n",
       "</style>\n",
       "<table border=\"1\" class=\"dataframe\">\n",
       "  <thead>\n",
       "    <tr style=\"text-align: right;\">\n",
       "      <th></th>\n",
       "      <th>exp_id</th>\n",
       "      <th>device_id_hash</th>\n",
       "    </tr>\n",
       "  </thead>\n",
       "  <tbody>\n",
       "    <tr>\n",
       "      <th>0</th>\n",
       "      <td>A1</td>\n",
       "      <td>2484</td>\n",
       "    </tr>\n",
       "    <tr>\n",
       "      <th>1</th>\n",
       "      <td>A2</td>\n",
       "      <td>2513</td>\n",
       "    </tr>\n",
       "    <tr>\n",
       "      <th>2</th>\n",
       "      <td>B</td>\n",
       "      <td>2537</td>\n",
       "    </tr>\n",
       "    <tr>\n",
       "      <th>3</th>\n",
       "      <td>A1+A2</td>\n",
       "      <td>4997</td>\n",
       "    </tr>\n",
       "  </tbody>\n",
       "</table>\n",
       "</div>"
      ],
      "text/plain": [
       "  exp_id  device_id_hash\n",
       "0     A1            2484\n",
       "1     A2            2513\n",
       "2      B            2537\n",
       "3  A1+A2            4997"
      ]
     },
     "execution_count": 22,
     "metadata": {},
     "output_type": "execute_result"
    }
   ],
   "source": [
    "#Количество пльзователей в каждой группе\n",
    "new_row = {'exp_id': 'A1+A2', 'device_id_hash': (exp_count.loc[0,'device_id_hash'] + exp_count.loc[1,'device_id_hash'])}\n",
    "exp_count = exp_count.append(new_row, ignore_index=True)\n",
    "exp_count = exp_count[['exp_id','device_id_hash']]\n",
    "exp_count"
   ]
  },
  {
   "cell_type": "code",
   "execution_count": 23,
   "id": "59320f22",
   "metadata": {},
   "outputs": [
    {
     "name": "stdout",
     "output_type": "stream",
     "text": [
      "0\n",
      "0\n",
      "0\n"
     ]
    }
   ],
   "source": [
    "group_A1 = df[df['exp_id']=='A1']\n",
    "group_A2 = df[df['exp_id']=='A2']\n",
    "group_B = df[df['exp_id']=='B']\n",
    "\n",
    "doplicate_user_A1_A2 = group_A1.query('device_id_hash in @group_A2')['device_id_hash']\n",
    "doplicate_user_A1_B= group_B.query('device_id_hash in @group_A1')['device_id_hash']\n",
    "doplicate_user_A2_B = group_B.query('device_id_hash in @group_A2')['device_id_hash']\n",
    "print(len(doplicate_user_A1_A2))\n",
    "print(len(doplicate_user_A1_B))\n",
    "print(len(doplicate_user_A2_B))"
   ]
  },
  {
   "cell_type": "markdown",
   "id": "99a7c8bd",
   "metadata": {},
   "source": [
    "Пользователей, попавших в несколько групп экспериментов, нет."
   ]
  },
  {
   "cell_type": "code",
   "execution_count": 24,
   "id": "a8f16b96",
   "metadata": {},
   "outputs": [
    {
     "data": {
      "text/html": [
       "<div>\n",
       "<style scoped>\n",
       "    .dataframe tbody tr th:only-of-type {\n",
       "        vertical-align: middle;\n",
       "    }\n",
       "\n",
       "    .dataframe tbody tr th {\n",
       "        vertical-align: top;\n",
       "    }\n",
       "\n",
       "    .dataframe thead th {\n",
       "        text-align: right;\n",
       "    }\n",
       "</style>\n",
       "<table border=\"1\" class=\"dataframe\">\n",
       "  <thead>\n",
       "    <tr style=\"text-align: right;\">\n",
       "      <th>exp_id</th>\n",
       "      <th>event_name</th>\n",
       "      <th>A1</th>\n",
       "      <th>A2</th>\n",
       "      <th>B</th>\n",
       "      <th>A1+A2</th>\n",
       "    </tr>\n",
       "  </thead>\n",
       "  <tbody>\n",
       "    <tr>\n",
       "      <th>0</th>\n",
       "      <td>MainScreenAppear</td>\n",
       "      <td>2450</td>\n",
       "      <td>2476</td>\n",
       "      <td>2493</td>\n",
       "      <td>4926</td>\n",
       "    </tr>\n",
       "    <tr>\n",
       "      <th>1</th>\n",
       "      <td>OffersScreenAppear</td>\n",
       "      <td>1542</td>\n",
       "      <td>1520</td>\n",
       "      <td>1531</td>\n",
       "      <td>3062</td>\n",
       "    </tr>\n",
       "    <tr>\n",
       "      <th>2</th>\n",
       "      <td>CartScreenAppear</td>\n",
       "      <td>1266</td>\n",
       "      <td>1238</td>\n",
       "      <td>1230</td>\n",
       "      <td>2504</td>\n",
       "    </tr>\n",
       "    <tr>\n",
       "      <th>3</th>\n",
       "      <td>PaymentScreenSuccessful</td>\n",
       "      <td>1200</td>\n",
       "      <td>1158</td>\n",
       "      <td>1181</td>\n",
       "      <td>2358</td>\n",
       "    </tr>\n",
       "    <tr>\n",
       "      <th>4</th>\n",
       "      <td>Tutorial</td>\n",
       "      <td>278</td>\n",
       "      <td>283</td>\n",
       "      <td>279</td>\n",
       "      <td>561</td>\n",
       "    </tr>\n",
       "  </tbody>\n",
       "</table>\n",
       "</div>"
      ],
      "text/plain": [
       "exp_id               event_name    A1    A2     B  A1+A2\n",
       "0              MainScreenAppear  2450  2476  2493   4926\n",
       "1            OffersScreenAppear  1542  1520  1531   3062\n",
       "2              CartScreenAppear  1266  1238  1230   2504\n",
       "3       PaymentScreenSuccessful  1200  1158  1181   2358\n",
       "4                      Tutorial   278   283   279    561"
      ]
     },
     "execution_count": 24,
     "metadata": {},
     "output_type": "execute_result"
    }
   ],
   "source": [
    "group_test = (\n",
    "    df.pivot_table(\n",
    "        index = 'event_name',\n",
    "        columns = 'exp_id',\n",
    "        values = 'device_id_hash',\n",
    "        aggfunc = 'nunique'\n",
    "    )\n",
    "    .sort_values(by='A1', ascending=False)\n",
    "    .reset_index()\n",
    ")\n",
    "#добавим столбец для скомбинированных данных\n",
    "group_test['A1+A2'] = group_test['A1'] + group_test['A2']\n",
    "group_test"
   ]
  },
  {
   "cell_type": "code",
   "execution_count": 25,
   "id": "f96377a1",
   "metadata": {},
   "outputs": [
    {
     "data": {
      "text/html": [
       "<div>\n",
       "<style scoped>\n",
       "    .dataframe tbody tr th:only-of-type {\n",
       "        vertical-align: middle;\n",
       "    }\n",
       "\n",
       "    .dataframe tbody tr th {\n",
       "        vertical-align: top;\n",
       "    }\n",
       "\n",
       "    .dataframe thead th {\n",
       "        text-align: right;\n",
       "    }\n",
       "</style>\n",
       "<table border=\"1\" class=\"dataframe\">\n",
       "  <thead>\n",
       "    <tr style=\"text-align: right;\">\n",
       "      <th>exp_id</th>\n",
       "      <th>event_name</th>\n",
       "      <th>A1</th>\n",
       "      <th>A2</th>\n",
       "      <th>B</th>\n",
       "      <th>A1+A2</th>\n",
       "      <th>A1_share</th>\n",
       "      <th>A2_share</th>\n",
       "      <th>B_share</th>\n",
       "      <th>A1+A2_share</th>\n",
       "    </tr>\n",
       "  </thead>\n",
       "  <tbody>\n",
       "    <tr>\n",
       "      <th>0</th>\n",
       "      <td>MainScreenAppear</td>\n",
       "      <td>2450</td>\n",
       "      <td>2476</td>\n",
       "      <td>2493</td>\n",
       "      <td>4926</td>\n",
       "      <td>98.6</td>\n",
       "      <td>98.5</td>\n",
       "      <td>98.3</td>\n",
       "      <td>98.6</td>\n",
       "    </tr>\n",
       "    <tr>\n",
       "      <th>1</th>\n",
       "      <td>OffersScreenAppear</td>\n",
       "      <td>1542</td>\n",
       "      <td>1520</td>\n",
       "      <td>1531</td>\n",
       "      <td>3062</td>\n",
       "      <td>62.1</td>\n",
       "      <td>60.5</td>\n",
       "      <td>60.3</td>\n",
       "      <td>61.3</td>\n",
       "    </tr>\n",
       "    <tr>\n",
       "      <th>2</th>\n",
       "      <td>CartScreenAppear</td>\n",
       "      <td>1266</td>\n",
       "      <td>1238</td>\n",
       "      <td>1230</td>\n",
       "      <td>2504</td>\n",
       "      <td>51.0</td>\n",
       "      <td>49.3</td>\n",
       "      <td>48.5</td>\n",
       "      <td>50.1</td>\n",
       "    </tr>\n",
       "    <tr>\n",
       "      <th>3</th>\n",
       "      <td>PaymentScreenSuccessful</td>\n",
       "      <td>1200</td>\n",
       "      <td>1158</td>\n",
       "      <td>1181</td>\n",
       "      <td>2358</td>\n",
       "      <td>48.3</td>\n",
       "      <td>46.1</td>\n",
       "      <td>46.6</td>\n",
       "      <td>47.2</td>\n",
       "    </tr>\n",
       "    <tr>\n",
       "      <th>4</th>\n",
       "      <td>Tutorial</td>\n",
       "      <td>278</td>\n",
       "      <td>283</td>\n",
       "      <td>279</td>\n",
       "      <td>561</td>\n",
       "      <td>11.2</td>\n",
       "      <td>11.3</td>\n",
       "      <td>11.0</td>\n",
       "      <td>11.2</td>\n",
       "    </tr>\n",
       "  </tbody>\n",
       "</table>\n",
       "</div>"
      ],
      "text/plain": [
       "exp_id               event_name    A1    A2     B  A1+A2  A1_share  A2_share  \\\n",
       "0              MainScreenAppear  2450  2476  2493   4926      98.6      98.5   \n",
       "1            OffersScreenAppear  1542  1520  1531   3062      62.1      60.5   \n",
       "2              CartScreenAppear  1266  1238  1230   2504      51.0      49.3   \n",
       "3       PaymentScreenSuccessful  1200  1158  1181   2358      48.3      46.1   \n",
       "4                      Tutorial   278   283   279    561      11.2      11.3   \n",
       "\n",
       "exp_id  B_share  A1+A2_share  \n",
       "0          98.3         98.6  \n",
       "1          60.3         61.3  \n",
       "2          48.5         50.1  \n",
       "3          46.6         47.2  \n",
       "4          11.0         11.2  "
      ]
     },
     "execution_count": 25,
     "metadata": {},
     "output_type": "execute_result"
    }
   ],
   "source": [
    "for group in exp_count['exp_id']:\n",
    "    group_test[group+'_share'] = (\n",
    "        group_test[group] / exp_count[exp_count['exp_id']==group]['device_id_hash'].values[0]*100).round(1)\n",
    "    \n",
    "group_test"
   ]
  },
  {
   "cell_type": "markdown",
   "id": "bd923bdc",
   "metadata": {},
   "source": [
    "Гипотезы:\\\n",
    "Н0: между долями в событиях в группах нет разницы\\\n",
    "Н1: между долями в событиях в группах есть разница"
   ]
  },
  {
   "cell_type": "code",
   "execution_count": 26,
   "id": "03fc1c4c",
   "metadata": {},
   "outputs": [],
   "source": [
    "alpha = 0.05\n",
    "nobs = [exp_count.device_id_hash[0], exp_count.device_id_hash[1]]"
   ]
  },
  {
   "cell_type": "code",
   "execution_count": 27,
   "id": "d5adc453",
   "metadata": {},
   "outputs": [],
   "source": [
    "def group_comparison(group_share_1, group_share_2):\n",
    "    \n",
    "    print(f'в группах {group_share_1} и {group_share_2}:')\n",
    "    print()\n",
    "    for event in range(len(group_test)):\n",
    "        count = [group_test[group_share_1][event], group_test[group_share_2][event]]\n",
    "        stat, pval = proportions_ztest(count, nobs)\n",
    "        print(f'- для события {group_test[\"event_name\"][event]} p-value равно {pval} =>')\n",
    "        if pval < alpha:\n",
    "            print('Отвергаем нулевую гипотезу: между долями есть значимая разница')\n",
    "        else:\n",
    "            print('Не получилось отвергнуть нулевую гипотезу, нет оснований считать доли разными') \n",
    "        print()"
   ]
  },
  {
   "cell_type": "code",
   "execution_count": 28,
   "id": "276fd37f",
   "metadata": {},
   "outputs": [
    {
     "name": "stdout",
     "output_type": "stream",
     "text": [
      "в группах A1 и A2:\n",
      "\n",
      "- для события MainScreenAppear p-value равно 0.7570597232046099 =>\n",
      "Не получилось отвергнуть нулевую гипотезу, нет оснований считать доли разными\n",
      "\n",
      "- для события OffersScreenAppear p-value равно 0.2480954578522181 =>\n",
      "Не получилось отвергнуть нулевую гипотезу, нет оснований считать доли разными\n",
      "\n",
      "- для события CartScreenAppear p-value равно 0.22883372237997213 =>\n",
      "Не получилось отвергнуть нулевую гипотезу, нет оснований считать доли разными\n",
      "\n",
      "- для события PaymentScreenSuccessful p-value равно 0.11456679313141847 =>\n",
      "Не получилось отвергнуть нулевую гипотезу, нет оснований считать доли разными\n",
      "\n",
      "- для события Tutorial p-value равно 0.9376996189257114 =>\n",
      "Не получилось отвергнуть нулевую гипотезу, нет оснований считать доли разными\n",
      "\n"
     ]
    }
   ],
   "source": [
    "group_comparison('A1', 'A2')"
   ]
  },
  {
   "cell_type": "code",
   "execution_count": 29,
   "id": "b8c602a6",
   "metadata": {},
   "outputs": [
    {
     "name": "stdout",
     "output_type": "stream",
     "text": [
      "\n",
      "P-value on step  MainScreenAppear :\n",
      "0.7570597232046099\n",
      "Не отвергаем нулевую гипотезу, между долями нет разницы.\n",
      "\n",
      "P-value on step  OffersScreenAppear :\n",
      "0.2480954578522181\n",
      "Не отвергаем нулевую гипотезу, между долями нет разницы.\n",
      "\n",
      "P-value on step  CartScreenAppear :\n",
      "0.22883372237997213\n",
      "Не отвергаем нулевую гипотезу, между долями нет разницы.\n",
      "\n",
      "P-value on step  PaymentScreenSuccessful :\n",
      "0.11456679313141847\n",
      "Не отвергаем нулевую гипотезу, между долями нет разницы.\n",
      "\n",
      "P-value on step  Tutorial :\n",
      "0.9376996189257114\n",
      "Не отвергаем нулевую гипотезу, между долями нет разницы.\n"
     ]
    }
   ],
   "source": [
    "#Проверка кода старым методом\n",
    "alpha = 0.05\n",
    "total_a1 = len(df[df['exp_id'] == 'A1']['device_id_hash'].unique())\n",
    "total_a2 = len(df[df['exp_id'] == 'A2']['device_id_hash'].unique())\n",
    "for value in range(len(group_test.event_name.tolist())):\n",
    "    count = [group_test['A1'][value], group_test['A2'][value]]\n",
    "    nobs = [total_a1, total_a2]\n",
    "    stat, pval = proportions_ztest(count, nobs)\n",
    "    print()\n",
    "    print('P-value on step ', group_test.event_name.tolist()[value], ':')\n",
    "    print(pval)\n",
    "    if pval < alpha:\n",
    "        print('Отвергаем нулевую гипотезу, между долями есть разница.')\n",
    "    else:\n",
    "        print('Не отвергаем нулевую гипотезу, между долями нет разницы.')"
   ]
  },
  {
   "cell_type": "markdown",
   "id": "bbf1c916",
   "metadata": {},
   "source": [
    "Итог: две контрольные группы разбиты правильно, так как ни для одного события мы не смогли отвергнуть гипотезу об отсутствии разницы."
   ]
  },
  {
   "cell_type": "code",
   "execution_count": 30,
   "id": "1c201ba4",
   "metadata": {},
   "outputs": [
    {
     "name": "stdout",
     "output_type": "stream",
     "text": [
      "в группах A1 и B:\n",
      "\n",
      "- для события MainScreenAppear p-value равно 0.2949721933554553 =>\n",
      "Не получилось отвергнуть нулевую гипотезу, нет оснований считать доли разными\n",
      "\n",
      "- для события OffersScreenAppear p-value равно 0.20836205402738917 =>\n",
      "Не получилось отвергнуть нулевую гипотезу, нет оснований считать доли разными\n",
      "\n",
      "- для события CartScreenAppear p-value равно 0.07842923237520125 =>\n",
      "Не получилось отвергнуть нулевую гипотезу, нет оснований считать доли разными\n",
      "\n",
      "- для события PaymentScreenSuccessful p-value равно 0.21225532756977972 =>\n",
      "Не получилось отвергнуть нулевую гипотезу, нет оснований считать доли разными\n",
      "\n",
      "- для события Tutorial p-value равно 0.8264294010087645 =>\n",
      "Не получилось отвергнуть нулевую гипотезу, нет оснований считать доли разными\n",
      "\n"
     ]
    }
   ],
   "source": [
    "nobs = [exp_count.device_id_hash[0], exp_count.device_id_hash[2]] # число польз-лей в гр. А_1 и В\n",
    "\n",
    "group_comparison('A1', 'B')"
   ]
  },
  {
   "cell_type": "code",
   "execution_count": 31,
   "id": "e55ed197",
   "metadata": {},
   "outputs": [
    {
     "name": "stdout",
     "output_type": "stream",
     "text": [
      "в группах A2 и B:\n",
      "\n",
      "- для события MainScreenAppear p-value равно 0.45870536166215137 =>\n",
      "Не получилось отвергнуть нулевую гипотезу, нет оснований считать доли разными\n",
      "\n",
      "- для события OffersScreenAppear p-value равно 0.919781783059226 =>\n",
      "Не получилось отвергнуть нулевую гипотезу, нет оснований считать доли разными\n",
      "\n",
      "- для события CartScreenAppear p-value равно 0.5786197879539782 =>\n",
      "Не получилось отвергнуть нулевую гипотезу, нет оснований считать доли разными\n",
      "\n",
      "- для события PaymentScreenSuccessful p-value равно 0.7373415053803964 =>\n",
      "Не получилось отвергнуть нулевую гипотезу, нет оснований считать доли разными\n",
      "\n",
      "- для события Tutorial p-value равно 0.7653239224745011 =>\n",
      "Не получилось отвергнуть нулевую гипотезу, нет оснований считать доли разными\n",
      "\n"
     ]
    }
   ],
   "source": [
    "nobs = [exp_count.device_id_hash[1], exp_count.device_id_hash[2]] # число польз-лей в гр. А_1 и В\n",
    "\n",
    "group_comparison('A2', 'B')"
   ]
  },
  {
   "cell_type": "markdown",
   "id": "eb663378",
   "metadata": {},
   "source": [
    "Значение P-value не пересекает стаистическую знаичомость ни для одной из контрольных групп в сравнении с экспериментальной группой. "
   ]
  },
  {
   "cell_type": "code",
   "execution_count": 32,
   "id": "026525ab",
   "metadata": {},
   "outputs": [
    {
     "name": "stdout",
     "output_type": "stream",
     "text": [
      "в группах A1+A2 и B:\n",
      "\n",
      "- для события MainScreenAppear p-value равно 0.29424526837179577 =>\n",
      "Не получилось отвергнуть нулевую гипотезу, нет оснований считать доли разными\n",
      "\n",
      "- для события OffersScreenAppear p-value равно 0.43425549655188245 =>\n",
      "Не получилось отвергнуть нулевую гипотезу, нет оснований считать доли разными\n",
      "\n",
      "- для события CartScreenAppear p-value равно 0.18175875284404386 =>\n",
      "Не получилось отвергнуть нулевую гипотезу, нет оснований считать доли разными\n",
      "\n",
      "- для события PaymentScreenSuccessful p-value равно 0.6004294282308703 =>\n",
      "Не получилось отвергнуть нулевую гипотезу, нет оснований считать доли разными\n",
      "\n",
      "- для события Tutorial p-value равно 0.764862472531507 =>\n",
      "Не получилось отвергнуть нулевую гипотезу, нет оснований считать доли разными\n",
      "\n"
     ]
    }
   ],
   "source": [
    "#Определим статистическую значимость для групп B и скомбинированных контрольных групп\n",
    "nobs = [exp_count.device_id_hash[3], exp_count.device_id_hash[2]] # число польз-лей в гр. А_1 и В\n",
    "\n",
    "group_comparison('A1+A2', 'B')"
   ]
  },
  {
   "cell_type": "markdown",
   "id": "1f181d31",
   "metadata": {},
   "source": [
    "Сравнив скомбинированную группу из контрольных групп с экспериментальной, мы снова получаем, что нулевую гипотезу отвергать нельзя."
   ]
  },
  {
   "cell_type": "markdown",
   "id": "7445f694",
   "metadata": {},
   "source": [
    "Однако, при проверке гипотез, мы использовали стат. значимость = 0.05.\n",
    "Но мы не учли, что у нас 5 событий и 4 группы, то есть 20 гипотез."
   ]
  },
  {
   "cell_type": "code",
   "execution_count": 33,
   "id": "15feda27",
   "metadata": {},
   "outputs": [],
   "source": [
    "#Критический уровень статистической значимости с поправкой Шидака\n",
    "alpha = 1 - (1 - 0.05)**(1/20) "
   ]
  },
  {
   "cell_type": "code",
   "execution_count": 34,
   "id": "9e9124d8",
   "metadata": {},
   "outputs": [
    {
     "name": "stdout",
     "output_type": "stream",
     "text": [
      "в группах A1 и A2:\n",
      "\n",
      "- для события MainScreenAppear p-value равно 0.7570597232046099 =>\n",
      "Не получилось отвергнуть нулевую гипотезу, нет оснований считать доли разными\n",
      "\n",
      "- для события OffersScreenAppear p-value равно 0.2480954578522181 =>\n",
      "Не получилось отвергнуть нулевую гипотезу, нет оснований считать доли разными\n",
      "\n",
      "- для события CartScreenAppear p-value равно 0.22883372237997213 =>\n",
      "Не получилось отвергнуть нулевую гипотезу, нет оснований считать доли разными\n",
      "\n",
      "- для события PaymentScreenSuccessful p-value равно 0.11456679313141847 =>\n",
      "Не получилось отвергнуть нулевую гипотезу, нет оснований считать доли разными\n",
      "\n",
      "- для события Tutorial p-value равно 0.9376996189257114 =>\n",
      "Не получилось отвергнуть нулевую гипотезу, нет оснований считать доли разными\n",
      "\n"
     ]
    }
   ],
   "source": [
    "#Проверим правильную разбивку на группы для контрольных групп:\n",
    "nobs = [exp_count.device_id_hash[0], exp_count.device_id_hash[1]]\n",
    "group_comparison('A1', 'A2')"
   ]
  },
  {
   "cell_type": "markdown",
   "id": "5090e52d",
   "metadata": {},
   "source": [
    "Группы разбиты корректно, так как нам не удалось отвергнуть нулевую гипотезу."
   ]
  },
  {
   "cell_type": "code",
   "execution_count": 35,
   "id": "ec5ceb4d",
   "metadata": {},
   "outputs": [
    {
     "name": "stdout",
     "output_type": "stream",
     "text": [
      "в группах A1 и B:\n",
      "\n",
      "- для события MainScreenAppear p-value равно 0.2949721933554553 =>\n",
      "Не получилось отвергнуть нулевую гипотезу, нет оснований считать доли разными\n",
      "\n",
      "- для события OffersScreenAppear p-value равно 0.20836205402738917 =>\n",
      "Не получилось отвергнуть нулевую гипотезу, нет оснований считать доли разными\n",
      "\n",
      "- для события CartScreenAppear p-value равно 0.07842923237520125 =>\n",
      "Не получилось отвергнуть нулевую гипотезу, нет оснований считать доли разными\n",
      "\n",
      "- для события PaymentScreenSuccessful p-value равно 0.21225532756977972 =>\n",
      "Не получилось отвергнуть нулевую гипотезу, нет оснований считать доли разными\n",
      "\n",
      "- для события Tutorial p-value равно 0.8264294010087645 =>\n",
      "Не получилось отвергнуть нулевую гипотезу, нет оснований считать доли разными\n",
      "\n"
     ]
    }
   ],
   "source": [
    "nobs = [exp_count.device_id_hash[0], exp_count.device_id_hash[2]] # число польз-лей в гр. А_1 и В\n",
    "\n",
    "group_comparison('A1', 'B')"
   ]
  },
  {
   "cell_type": "code",
   "execution_count": 36,
   "id": "b1398d1a",
   "metadata": {},
   "outputs": [
    {
     "name": "stdout",
     "output_type": "stream",
     "text": [
      "в группах A2 и B:\n",
      "\n",
      "- для события MainScreenAppear p-value равно 0.45870536166215137 =>\n",
      "Не получилось отвергнуть нулевую гипотезу, нет оснований считать доли разными\n",
      "\n",
      "- для события OffersScreenAppear p-value равно 0.919781783059226 =>\n",
      "Не получилось отвергнуть нулевую гипотезу, нет оснований считать доли разными\n",
      "\n",
      "- для события CartScreenAppear p-value равно 0.5786197879539782 =>\n",
      "Не получилось отвергнуть нулевую гипотезу, нет оснований считать доли разными\n",
      "\n",
      "- для события PaymentScreenSuccessful p-value равно 0.7373415053803964 =>\n",
      "Не получилось отвергнуть нулевую гипотезу, нет оснований считать доли разными\n",
      "\n",
      "- для события Tutorial p-value равно 0.7653239224745011 =>\n",
      "Не получилось отвергнуть нулевую гипотезу, нет оснований считать доли разными\n",
      "\n"
     ]
    }
   ],
   "source": [
    "nobs = [exp_count.device_id_hash[1], exp_count.device_id_hash[2]] # число польз-лей в гр. А_1 и В\n",
    "\n",
    "group_comparison('A2', 'B')"
   ]
  },
  {
   "cell_type": "code",
   "execution_count": 37,
   "id": "09fd701c",
   "metadata": {},
   "outputs": [
    {
     "name": "stdout",
     "output_type": "stream",
     "text": [
      "в группах A1+A2 и B:\n",
      "\n",
      "- для события MainScreenAppear p-value равно 0.29424526837179577 =>\n",
      "Не получилось отвергнуть нулевую гипотезу, нет оснований считать доли разными\n",
      "\n",
      "- для события OffersScreenAppear p-value равно 0.43425549655188245 =>\n",
      "Не получилось отвергнуть нулевую гипотезу, нет оснований считать доли разными\n",
      "\n",
      "- для события CartScreenAppear p-value равно 0.18175875284404386 =>\n",
      "Не получилось отвергнуть нулевую гипотезу, нет оснований считать доли разными\n",
      "\n",
      "- для события PaymentScreenSuccessful p-value равно 0.6004294282308703 =>\n",
      "Не получилось отвергнуть нулевую гипотезу, нет оснований считать доли разными\n",
      "\n",
      "- для события Tutorial p-value равно 0.764862472531507 =>\n",
      "Не получилось отвергнуть нулевую гипотезу, нет оснований считать доли разными\n",
      "\n"
     ]
    }
   ],
   "source": [
    "nobs = [exp_count.device_id_hash[3], exp_count.device_id_hash[2]] # число польз-лей в гр. А_1 и В\n",
    "\n",
    "group_comparison('A1+A2', 'B')"
   ]
  },
  {
   "cell_type": "markdown",
   "id": "038c57b0",
   "metadata": {},
   "source": [
    "Несмотря на исправленное значение статистической значимости, результаты экспериментов не изменились. Контрольные группы не имеют достаточной разницы с экспериментальной. "
   ]
  },
  {
   "cell_type": "markdown",
   "id": "11c4612b",
   "metadata": {},
   "source": [
    "В конечном счете, мы проверили 20 гипотез по каждому событию для разных комбинаций групп. Изменения статистической значимости, не повлияли на результаты, но лучше использовать уровень статистической значимости с поправкой Шидака. Так мы уменьшаем вероятность ошибки первого рода (ложнопозитивный результат)."
   ]
  },
  {
   "cell_type": "markdown",
   "id": "cd24465f",
   "metadata": {},
   "source": [
    "## Вывод"
   ]
  },
  {
   "cell_type": "markdown",
   "id": "c56d2fc2",
   "metadata": {},
   "source": [
    "В данном проекте мы изучали поведение пользователей в приложении по покупки продуктов:\\\n",
    "1 этап: обзор и подготовка данных;\\\n",
    "2 этап: изучение и проверка данных;\\\n",
    "3 этап: формироание воронки событий;\\\n",
    "4 этап: эксперимент.\n",
    "\n",
    "На 1 этапе мы столкнулись с нечитабильным названиями столбцов, дубликатами и датами, записанными одним числом. На это шаге мы обработали данные для дальнейшей работы.\n",
    "\n",
    "На 2 этапе было выявлено, что каждый из 7551 пользователей с разной частотой открывает главный экран или переходит на страницу оплаты. Всего таких событий 5: наиболее частое - открытие главного экрана, наименее частое - страница с инструкцией. Среднее значение находится около 32, но есть пользователи, у которых количество событий достигает 1500. Наиболее полная картина по переходу пользователей с одного шага на другой видна с 31.07.2019, при анализе мы использовали события произошедшие после этой даты. В конце данного этапа мы проверили соотношение пользователей в группах, разница составляла до 2,5%.\n",
    "\n",
    "3 этап - этап определение последовательностей действий пользователей или, другими словами, воронки событий. Сгруппировав данные по событиям и построив график, мы сделали предположение, что последовательность действий следующая:\n",
    "1. MainScreenAppear  \n",
    "2. OffersScreenAppear\n",
    "3. CartScreenAppear  \n",
    "4. PaymentScreenSuccessful  \n",
    "\n",
    "Шаг \"Tutorial\" мы не стали включать, так как нет определенности в том, в каком случае и когда пользователи переходят на эту страницу.\n",
    "Помимо этого, мы выяснили, что наибольшее потери при переходе с одного шага на другой происходят на этапе перехода с главного экрана на экран корзины. И доля пользователей, открывших сайт и оплативших покупку, составляет 46,38%\n",
    "\n",
    "На последнем этапе, был проведен A/B-тест. Первоначально мы задали уровень статистической значимости равным 0.05. Проверили отличие между двумя контрольными группами,  а также между каждой из контрольных групп с экспериментальной группой. Разница не была выявлена. Скомбинировав контрольные группы и сравнив их с экспериментальной, мы снова не получили достаточных оснований, чтобы отвергнуть гипотезу об их равенстве. Но для снижения вероятности ошибки первого рода, мы рассчитали уровень статистической значимости с поправкой Шидака. Изменений в результатх не было выявлено, но стало намного спокойнее.\n",
    "\n",
    "Рекомндации для отдела маркетинга следующие:\n",
    "\n",
    "1. С переходом к следующему этапу мы теряем пользоватлей и к оплате переходят чуть меньше 50% пользователей. Это не является катастрофическим, но определенно есть куда расти.\n",
    "2. Изменение шрифта никак не изменило поведение пользователей. Соответственно опасения, что из-за изменения шрифта пользователи менше будут конвертироваться в покупателей не обоснована, шрифт можно менять. Но с другой стороны изменения шрифта никак не увеличило корзину покупателей, поэтому явных причин для изменения шрифта не определены.\n",
    "3. Сравнение с комбинированной группой дало повод отвергнуть нулевую гипотезу об отсутствии различий с экспериментальной группой. Но из-за неравномерного разделения между группами полагаться на полученные данные не стоит. "
   ]
  }
 ],
 "metadata": {
  "ExecuteTimeLog": [
   {
    "duration": 1349,
    "start_time": "2022-10-31T12:58:15.761Z"
   },
   {
    "duration": 549,
    "start_time": "2022-10-31T12:58:17.112Z"
   },
   {
    "duration": 96,
    "start_time": "2022-10-31T12:58:17.663Z"
   },
   {
    "duration": 20,
    "start_time": "2022-10-31T12:58:17.761Z"
   },
   {
    "duration": 88,
    "start_time": "2022-10-31T12:58:17.783Z"
   },
   {
    "duration": 20,
    "start_time": "2022-10-31T12:58:17.873Z"
   },
   {
    "duration": 55,
    "start_time": "2022-10-31T12:58:17.895Z"
   },
   {
    "duration": 5,
    "start_time": "2022-10-31T12:58:17.952Z"
   },
   {
    "duration": 485,
    "start_time": "2022-10-31T12:58:17.959Z"
   },
   {
    "duration": 25,
    "start_time": "2022-10-31T12:58:18.447Z"
   },
   {
    "duration": 40,
    "start_time": "2022-10-31T12:58:18.474Z"
   },
   {
    "duration": 58,
    "start_time": "2022-10-31T12:58:18.533Z"
   },
   {
    "duration": 14,
    "start_time": "2022-10-31T12:58:18.593Z"
   },
   {
    "duration": 31,
    "start_time": "2022-10-31T12:58:18.609Z"
   },
   {
    "duration": 9,
    "start_time": "2022-10-31T12:58:18.641Z"
   },
   {
    "duration": 5881,
    "start_time": "2022-10-31T12:58:18.652Z"
   },
   {
    "duration": 36,
    "start_time": "2022-10-31T12:58:24.535Z"
   },
   {
    "duration": 36,
    "start_time": "2022-10-31T12:58:24.573Z"
   },
   {
    "duration": 58,
    "start_time": "2022-10-31T12:58:24.611Z"
   },
   {
    "duration": 19,
    "start_time": "2022-10-31T12:58:24.671Z"
   },
   {
    "duration": 11,
    "start_time": "2022-10-31T12:58:24.692Z"
   },
   {
    "duration": 35,
    "start_time": "2022-10-31T12:58:24.705Z"
   },
   {
    "duration": 18,
    "start_time": "2022-10-31T12:58:24.742Z"
   },
   {
    "duration": 14,
    "start_time": "2022-10-31T12:58:24.761Z"
   },
   {
    "duration": 11,
    "start_time": "2022-10-31T12:58:24.776Z"
   },
   {
    "duration": 4,
    "start_time": "2022-10-31T12:58:24.788Z"
   },
   {
    "duration": 11,
    "start_time": "2022-10-31T12:58:24.794Z"
   },
   {
    "duration": 12,
    "start_time": "2022-10-31T12:58:24.836Z"
   },
   {
    "duration": 12,
    "start_time": "2022-10-31T12:58:24.849Z"
   },
   {
    "duration": 9,
    "start_time": "2022-10-31T12:58:24.863Z"
   },
   {
    "duration": 52,
    "start_time": "2022-11-02T18:52:43.193Z"
   },
   {
    "duration": 1268,
    "start_time": "2022-11-02T18:52:49.417Z"
   },
   {
    "duration": 653,
    "start_time": "2022-11-02T18:52:50.687Z"
   },
   {
    "duration": 88,
    "start_time": "2022-11-02T18:52:51.342Z"
   },
   {
    "duration": 20,
    "start_time": "2022-11-02T18:52:51.432Z"
   },
   {
    "duration": 82,
    "start_time": "2022-11-02T18:52:51.454Z"
   },
   {
    "duration": 18,
    "start_time": "2022-11-02T18:52:51.537Z"
   },
   {
    "duration": 117,
    "start_time": "2022-11-02T18:52:53.905Z"
   },
   {
    "duration": 11,
    "start_time": "2022-11-02T18:56:40.869Z"
   },
   {
    "duration": 14,
    "start_time": "2022-11-02T18:57:14.882Z"
   },
   {
    "duration": 17,
    "start_time": "2022-11-02T18:58:18.230Z"
   },
   {
    "duration": 11,
    "start_time": "2022-11-02T18:59:41.589Z"
   },
   {
    "duration": 143,
    "start_time": "2022-11-02T18:59:48.625Z"
   },
   {
    "duration": 136,
    "start_time": "2022-11-02T19:03:16.285Z"
   },
   {
    "duration": 48,
    "start_time": "2022-11-02T19:04:30.849Z"
   },
   {
    "duration": 37,
    "start_time": "2022-11-02T19:04:39.186Z"
   },
   {
    "duration": 182,
    "start_time": "2022-11-02T19:06:42.506Z"
   },
   {
    "duration": 179,
    "start_time": "2022-11-02T19:08:09.245Z"
   },
   {
    "duration": 222,
    "start_time": "2022-11-02T19:08:12.370Z"
   },
   {
    "duration": 208,
    "start_time": "2022-11-02T19:08:19.090Z"
   },
   {
    "duration": 214,
    "start_time": "2022-11-02T19:08:31.110Z"
   },
   {
    "duration": 26,
    "start_time": "2022-11-02T19:14:12.487Z"
   },
   {
    "duration": 27,
    "start_time": "2022-11-02T19:20:22.409Z"
   },
   {
    "duration": 11,
    "start_time": "2022-11-02T19:32:45.844Z"
   },
   {
    "duration": 21,
    "start_time": "2022-11-02T19:33:26.536Z"
   },
   {
    "duration": 15,
    "start_time": "2022-11-02T19:33:31.676Z"
   },
   {
    "duration": 19,
    "start_time": "2022-11-02T19:34:01.916Z"
   },
   {
    "duration": 3,
    "start_time": "2022-11-02T19:34:52.236Z"
   },
   {
    "duration": 148,
    "start_time": "2022-11-02T19:34:52.241Z"
   },
   {
    "duration": 80,
    "start_time": "2022-11-02T19:34:52.390Z"
   },
   {
    "duration": 19,
    "start_time": "2022-11-02T19:34:52.472Z"
   },
   {
    "duration": 83,
    "start_time": "2022-11-02T19:34:52.493Z"
   },
   {
    "duration": 18,
    "start_time": "2022-11-02T19:34:52.577Z"
   },
   {
    "duration": 37,
    "start_time": "2022-11-02T19:34:52.609Z"
   },
   {
    "duration": 9,
    "start_time": "2022-11-02T19:34:52.648Z"
   },
   {
    "duration": 0,
    "start_time": "2022-11-02T19:34:52.658Z"
   },
   {
    "duration": 0,
    "start_time": "2022-11-02T19:34:52.659Z"
   },
   {
    "duration": 0,
    "start_time": "2022-11-02T19:34:52.660Z"
   },
   {
    "duration": 0,
    "start_time": "2022-11-02T19:34:52.662Z"
   },
   {
    "duration": 0,
    "start_time": "2022-11-02T19:34:52.663Z"
   },
   {
    "duration": 0,
    "start_time": "2022-11-02T19:34:52.664Z"
   },
   {
    "duration": 3,
    "start_time": "2022-11-02T19:35:08.744Z"
   },
   {
    "duration": 153,
    "start_time": "2022-11-02T19:35:08.749Z"
   },
   {
    "duration": 85,
    "start_time": "2022-11-02T19:35:08.904Z"
   },
   {
    "duration": 31,
    "start_time": "2022-11-02T19:35:08.990Z"
   },
   {
    "duration": 94,
    "start_time": "2022-11-02T19:35:09.024Z"
   },
   {
    "duration": 21,
    "start_time": "2022-11-02T19:35:09.119Z"
   },
   {
    "duration": 39,
    "start_time": "2022-11-02T19:35:09.142Z"
   },
   {
    "duration": 31,
    "start_time": "2022-11-02T19:35:09.183Z"
   },
   {
    "duration": 0,
    "start_time": "2022-11-02T19:35:09.216Z"
   },
   {
    "duration": 0,
    "start_time": "2022-11-02T19:35:09.217Z"
   },
   {
    "duration": 0,
    "start_time": "2022-11-02T19:35:09.218Z"
   },
   {
    "duration": 0,
    "start_time": "2022-11-02T19:35:09.218Z"
   },
   {
    "duration": 0,
    "start_time": "2022-11-02T19:35:09.220Z"
   },
   {
    "duration": 1150,
    "start_time": "2022-11-02T19:35:24.025Z"
   },
   {
    "duration": 168,
    "start_time": "2022-11-02T19:35:25.177Z"
   },
   {
    "duration": 102,
    "start_time": "2022-11-02T19:35:25.347Z"
   },
   {
    "duration": 20,
    "start_time": "2022-11-02T19:35:25.450Z"
   },
   {
    "duration": 92,
    "start_time": "2022-11-02T19:35:25.472Z"
   },
   {
    "duration": 18,
    "start_time": "2022-11-02T19:35:25.566Z"
   },
   {
    "duration": 53,
    "start_time": "2022-11-02T19:35:25.586Z"
   },
   {
    "duration": 127,
    "start_time": "2022-11-02T19:35:25.641Z"
   },
   {
    "duration": 0,
    "start_time": "2022-11-02T19:35:25.771Z"
   },
   {
    "duration": 0,
    "start_time": "2022-11-02T19:35:25.772Z"
   },
   {
    "duration": 0,
    "start_time": "2022-11-02T19:35:25.773Z"
   },
   {
    "duration": 0,
    "start_time": "2022-11-02T19:35:25.774Z"
   },
   {
    "duration": 0,
    "start_time": "2022-11-02T19:35:25.775Z"
   },
   {
    "duration": 0,
    "start_time": "2022-11-02T19:35:25.776Z"
   },
   {
    "duration": 0,
    "start_time": "2022-11-02T19:35:25.777Z"
   },
   {
    "duration": 0,
    "start_time": "2022-11-02T19:35:25.779Z"
   },
   {
    "duration": 0,
    "start_time": "2022-11-02T19:35:25.780Z"
   },
   {
    "duration": 0,
    "start_time": "2022-11-02T19:35:25.782Z"
   },
   {
    "duration": 0,
    "start_time": "2022-11-02T19:35:25.783Z"
   },
   {
    "duration": 0,
    "start_time": "2022-11-02T19:35:25.809Z"
   },
   {
    "duration": 0,
    "start_time": "2022-11-02T19:35:25.811Z"
   },
   {
    "duration": 0,
    "start_time": "2022-11-02T19:35:25.812Z"
   },
   {
    "duration": 0,
    "start_time": "2022-11-02T19:35:25.814Z"
   },
   {
    "duration": 0,
    "start_time": "2022-11-02T19:35:25.815Z"
   },
   {
    "duration": 0,
    "start_time": "2022-11-02T19:35:25.816Z"
   },
   {
    "duration": 0,
    "start_time": "2022-11-02T19:35:25.817Z"
   },
   {
    "duration": 0,
    "start_time": "2022-11-02T19:35:25.819Z"
   },
   {
    "duration": 0,
    "start_time": "2022-11-02T19:35:25.820Z"
   },
   {
    "duration": 0,
    "start_time": "2022-11-02T19:35:25.821Z"
   },
   {
    "duration": 0,
    "start_time": "2022-11-02T19:35:25.822Z"
   },
   {
    "duration": 0,
    "start_time": "2022-11-02T19:35:25.823Z"
   },
   {
    "duration": 0,
    "start_time": "2022-11-02T19:35:25.824Z"
   },
   {
    "duration": 0,
    "start_time": "2022-11-02T19:35:25.825Z"
   },
   {
    "duration": 0,
    "start_time": "2022-11-02T19:35:25.827Z"
   },
   {
    "duration": 3,
    "start_time": "2022-11-02T19:35:55.788Z"
   },
   {
    "duration": 157,
    "start_time": "2022-11-02T19:35:55.793Z"
   },
   {
    "duration": 87,
    "start_time": "2022-11-02T19:35:55.952Z"
   },
   {
    "duration": 20,
    "start_time": "2022-11-02T19:35:56.041Z"
   },
   {
    "duration": 94,
    "start_time": "2022-11-02T19:35:56.064Z"
   },
   {
    "duration": 21,
    "start_time": "2022-11-02T19:35:56.161Z"
   },
   {
    "duration": 60,
    "start_time": "2022-11-02T19:35:56.184Z"
   },
   {
    "duration": 12,
    "start_time": "2022-11-02T19:35:56.246Z"
   },
   {
    "duration": 0,
    "start_time": "2022-11-02T19:35:56.260Z"
   },
   {
    "duration": 0,
    "start_time": "2022-11-02T19:35:56.261Z"
   },
   {
    "duration": 0,
    "start_time": "2022-11-02T19:35:56.262Z"
   },
   {
    "duration": 0,
    "start_time": "2022-11-02T19:35:56.263Z"
   },
   {
    "duration": 0,
    "start_time": "2022-11-02T19:35:56.265Z"
   },
   {
    "duration": 9,
    "start_time": "2022-11-02T19:36:00.397Z"
   },
   {
    "duration": 691,
    "start_time": "2022-11-02T19:36:38.465Z"
   },
   {
    "duration": 3,
    "start_time": "2022-11-02T19:37:06.169Z"
   },
   {
    "duration": 207,
    "start_time": "2022-11-02T19:37:06.175Z"
   },
   {
    "duration": 101,
    "start_time": "2022-11-02T19:37:06.384Z"
   },
   {
    "duration": 31,
    "start_time": "2022-11-02T19:37:06.487Z"
   },
   {
    "duration": 97,
    "start_time": "2022-11-02T19:37:06.521Z"
   },
   {
    "duration": 19,
    "start_time": "2022-11-02T19:37:06.619Z"
   },
   {
    "duration": 41,
    "start_time": "2022-11-02T19:37:06.640Z"
   },
   {
    "duration": 27,
    "start_time": "2022-11-02T19:37:06.683Z"
   },
   {
    "duration": 0,
    "start_time": "2022-11-02T19:37:06.712Z"
   },
   {
    "duration": 0,
    "start_time": "2022-11-02T19:37:06.713Z"
   },
   {
    "duration": 0,
    "start_time": "2022-11-02T19:37:06.714Z"
   },
   {
    "duration": 0,
    "start_time": "2022-11-02T19:37:06.715Z"
   },
   {
    "duration": 9,
    "start_time": "2022-11-02T19:37:17.825Z"
   },
   {
    "duration": 191,
    "start_time": "2022-11-02T19:37:24.217Z"
   },
   {
    "duration": 239,
    "start_time": "2022-11-02T19:37:34.997Z"
   },
   {
    "duration": 4,
    "start_time": "2022-11-02T19:37:45.972Z"
   },
   {
    "duration": 162,
    "start_time": "2022-11-02T19:37:45.977Z"
   },
   {
    "duration": 88,
    "start_time": "2022-11-02T19:37:46.141Z"
   },
   {
    "duration": 24,
    "start_time": "2022-11-02T19:37:46.231Z"
   },
   {
    "duration": 102,
    "start_time": "2022-11-02T19:37:46.256Z"
   },
   {
    "duration": 20,
    "start_time": "2022-11-02T19:37:46.360Z"
   },
   {
    "duration": 49,
    "start_time": "2022-11-02T19:37:46.381Z"
   },
   {
    "duration": 209,
    "start_time": "2022-11-02T19:37:46.432Z"
   },
   {
    "duration": 213,
    "start_time": "2022-11-02T19:37:46.643Z"
   },
   {
    "duration": 6,
    "start_time": "2022-11-02T19:37:46.858Z"
   },
   {
    "duration": 453,
    "start_time": "2022-11-02T19:37:46.865Z"
   },
   {
    "duration": 23,
    "start_time": "2022-11-02T19:37:47.319Z"
   },
   {
    "duration": 22,
    "start_time": "2022-11-02T19:37:50.842Z"
   },
   {
    "duration": 32,
    "start_time": "2022-11-02T19:38:00.269Z"
   },
   {
    "duration": 33,
    "start_time": "2022-11-02T19:39:07.789Z"
   },
   {
    "duration": 33,
    "start_time": "2022-11-02T19:39:38.272Z"
   },
   {
    "duration": 30,
    "start_time": "2022-11-02T19:40:52.373Z"
   },
   {
    "duration": 35,
    "start_time": "2022-11-02T19:41:00.577Z"
   },
   {
    "duration": 32,
    "start_time": "2022-11-02T19:41:36.831Z"
   },
   {
    "duration": 31,
    "start_time": "2022-11-02T19:41:42.712Z"
   },
   {
    "duration": 31,
    "start_time": "2022-11-02T19:42:38.391Z"
   },
   {
    "duration": 32,
    "start_time": "2022-11-02T19:42:49.233Z"
   },
   {
    "duration": 39,
    "start_time": "2022-11-02T19:43:32.310Z"
   },
   {
    "duration": 58,
    "start_time": "2022-11-02T19:44:12.889Z"
   },
   {
    "duration": 15,
    "start_time": "2022-11-02T19:44:44.849Z"
   },
   {
    "duration": 8,
    "start_time": "2022-11-02T19:51:11.334Z"
   },
   {
    "duration": 14,
    "start_time": "2022-11-02T19:53:29.074Z"
   },
   {
    "duration": 17,
    "start_time": "2022-11-02T19:53:46.924Z"
   },
   {
    "duration": 15,
    "start_time": "2022-11-02T19:54:14.158Z"
   },
   {
    "duration": 3,
    "start_time": "2022-11-02T19:54:26.214Z"
   },
   {
    "duration": 154,
    "start_time": "2022-11-02T19:54:26.220Z"
   },
   {
    "duration": 80,
    "start_time": "2022-11-02T19:54:26.376Z"
   },
   {
    "duration": 21,
    "start_time": "2022-11-02T19:54:26.457Z"
   },
   {
    "duration": 106,
    "start_time": "2022-11-02T19:54:26.481Z"
   },
   {
    "duration": 29,
    "start_time": "2022-11-02T19:54:26.588Z"
   },
   {
    "duration": 39,
    "start_time": "2022-11-02T19:54:26.619Z"
   },
   {
    "duration": 198,
    "start_time": "2022-11-02T19:54:26.660Z"
   },
   {
    "duration": 224,
    "start_time": "2022-11-02T19:54:26.860Z"
   },
   {
    "duration": 7,
    "start_time": "2022-11-02T19:54:27.085Z"
   },
   {
    "duration": 508,
    "start_time": "2022-11-02T19:54:27.094Z"
   },
   {
    "duration": 32,
    "start_time": "2022-11-02T19:54:27.603Z"
   },
   {
    "duration": 32,
    "start_time": "2022-11-02T19:54:27.636Z"
   },
   {
    "duration": 53,
    "start_time": "2022-11-02T19:54:27.670Z"
   },
   {
    "duration": 37,
    "start_time": "2022-11-02T19:54:27.725Z"
   },
   {
    "duration": 75,
    "start_time": "2022-11-02T19:54:27.764Z"
   },
   {
    "duration": 14,
    "start_time": "2022-11-02T19:54:30.302Z"
   },
   {
    "duration": 15,
    "start_time": "2022-11-02T19:56:06.154Z"
   },
   {
    "duration": 16,
    "start_time": "2022-11-02T19:56:25.342Z"
   },
   {
    "duration": 12,
    "start_time": "2022-11-02T19:56:40.868Z"
   },
   {
    "duration": 14,
    "start_time": "2022-11-02T20:05:48.183Z"
   },
   {
    "duration": 2,
    "start_time": "2022-11-02T20:06:14.223Z"
   },
   {
    "duration": 151,
    "start_time": "2022-11-02T20:06:14.229Z"
   },
   {
    "duration": 103,
    "start_time": "2022-11-02T20:06:14.383Z"
   },
   {
    "duration": 32,
    "start_time": "2022-11-02T20:06:14.488Z"
   },
   {
    "duration": 98,
    "start_time": "2022-11-02T20:06:14.522Z"
   },
   {
    "duration": 21,
    "start_time": "2022-11-02T20:06:14.622Z"
   },
   {
    "duration": 38,
    "start_time": "2022-11-02T20:06:14.645Z"
   },
   {
    "duration": 197,
    "start_time": "2022-11-02T20:06:14.684Z"
   },
   {
    "duration": 212,
    "start_time": "2022-11-02T20:06:14.883Z"
   },
   {
    "duration": 13,
    "start_time": "2022-11-02T20:06:15.096Z"
   },
   {
    "duration": 435,
    "start_time": "2022-11-02T20:06:15.112Z"
   },
   {
    "duration": 32,
    "start_time": "2022-11-02T20:06:15.549Z"
   },
   {
    "duration": 44,
    "start_time": "2022-11-02T20:06:15.583Z"
   },
   {
    "duration": 31,
    "start_time": "2022-11-02T20:06:15.629Z"
   },
   {
    "duration": 60,
    "start_time": "2022-11-02T20:06:15.662Z"
   },
   {
    "duration": 57,
    "start_time": "2022-11-02T20:06:15.724Z"
   },
   {
    "duration": 15,
    "start_time": "2022-11-02T20:06:18.654Z"
   },
   {
    "duration": 11,
    "start_time": "2022-11-02T20:06:31.707Z"
   },
   {
    "duration": 75,
    "start_time": "2022-11-02T20:09:30.375Z"
   },
   {
    "duration": 182,
    "start_time": "2022-11-02T20:13:21.463Z"
   },
   {
    "duration": 233,
    "start_time": "2022-11-02T20:14:23.703Z"
   },
   {
    "duration": 224,
    "start_time": "2022-11-02T20:15:17.911Z"
   },
   {
    "duration": 1071,
    "start_time": "2022-11-02T20:19:07.194Z"
   },
   {
    "duration": 154,
    "start_time": "2022-11-02T20:19:08.267Z"
   },
   {
    "duration": 91,
    "start_time": "2022-11-02T20:19:08.423Z"
   },
   {
    "duration": 19,
    "start_time": "2022-11-02T20:19:08.515Z"
   },
   {
    "duration": 89,
    "start_time": "2022-11-02T20:19:08.536Z"
   },
   {
    "duration": 18,
    "start_time": "2022-11-02T20:19:08.626Z"
   },
   {
    "duration": 37,
    "start_time": "2022-11-02T20:19:08.645Z"
   },
   {
    "duration": 199,
    "start_time": "2022-11-02T20:19:08.684Z"
   },
   {
    "duration": 247,
    "start_time": "2022-11-02T20:19:08.885Z"
   },
   {
    "duration": 6,
    "start_time": "2022-11-02T20:19:09.135Z"
   },
   {
    "duration": 428,
    "start_time": "2022-11-02T20:19:09.142Z"
   },
   {
    "duration": 39,
    "start_time": "2022-11-02T20:19:09.571Z"
   },
   {
    "duration": 42,
    "start_time": "2022-11-02T20:19:09.612Z"
   },
   {
    "duration": 53,
    "start_time": "2022-11-02T20:19:09.656Z"
   },
   {
    "duration": 38,
    "start_time": "2022-11-02T20:19:09.711Z"
   },
   {
    "duration": 76,
    "start_time": "2022-11-02T20:19:09.751Z"
   },
   {
    "duration": 231,
    "start_time": "2022-11-02T20:19:09.829Z"
   },
   {
    "duration": 14,
    "start_time": "2022-11-02T20:19:10.061Z"
   },
   {
    "duration": 7,
    "start_time": "2022-11-02T20:19:10.077Z"
   },
   {
    "duration": 26,
    "start_time": "2022-11-02T20:19:10.085Z"
   },
   {
    "duration": 6121,
    "start_time": "2022-11-02T20:19:10.113Z"
   },
   {
    "duration": 42,
    "start_time": "2022-11-02T20:19:16.236Z"
   },
   {
    "duration": 49,
    "start_time": "2022-11-02T20:19:16.280Z"
   },
   {
    "duration": 38,
    "start_time": "2022-11-02T20:19:16.330Z"
   },
   {
    "duration": 16,
    "start_time": "2022-11-02T20:19:16.369Z"
   },
   {
    "duration": 31,
    "start_time": "2022-11-02T20:19:16.387Z"
   },
   {
    "duration": 8,
    "start_time": "2022-11-02T20:19:16.420Z"
   },
   {
    "duration": 8,
    "start_time": "2022-11-02T20:19:16.431Z"
   },
   {
    "duration": 12,
    "start_time": "2022-11-02T20:19:16.441Z"
   },
   {
    "duration": 11,
    "start_time": "2022-11-02T20:19:16.454Z"
   },
   {
    "duration": 4,
    "start_time": "2022-11-02T20:19:16.468Z"
   },
   {
    "duration": 10,
    "start_time": "2022-11-02T20:19:16.509Z"
   },
   {
    "duration": 10,
    "start_time": "2022-11-02T20:19:16.521Z"
   },
   {
    "duration": 18,
    "start_time": "2022-11-02T20:19:16.533Z"
   },
   {
    "duration": 13,
    "start_time": "2022-11-02T20:19:16.553Z"
   },
   {
    "duration": 56,
    "start_time": "2022-11-04T11:53:26.992Z"
   },
   {
    "duration": 1183,
    "start_time": "2022-11-04T11:53:34.530Z"
   },
   {
    "duration": 658,
    "start_time": "2022-11-04T11:53:35.715Z"
   },
   {
    "duration": 82,
    "start_time": "2022-11-04T11:53:36.375Z"
   },
   {
    "duration": 28,
    "start_time": "2022-11-04T11:53:36.459Z"
   },
   {
    "duration": 101,
    "start_time": "2022-11-04T11:53:36.488Z"
   },
   {
    "duration": 19,
    "start_time": "2022-11-04T11:53:36.591Z"
   },
   {
    "duration": 52,
    "start_time": "2022-11-04T11:53:36.611Z"
   },
   {
    "duration": 165,
    "start_time": "2022-11-04T11:53:36.665Z"
   },
   {
    "duration": 224,
    "start_time": "2022-11-04T11:53:36.831Z"
   },
   {
    "duration": 5,
    "start_time": "2022-11-04T11:53:37.058Z"
   },
   {
    "duration": 414,
    "start_time": "2022-11-04T11:53:37.064Z"
   },
   {
    "duration": 33,
    "start_time": "2022-11-04T11:53:37.480Z"
   },
   {
    "duration": 32,
    "start_time": "2022-11-04T11:53:37.515Z"
   },
   {
    "duration": 55,
    "start_time": "2022-11-04T11:53:37.548Z"
   },
   {
    "duration": 38,
    "start_time": "2022-11-04T11:53:37.605Z"
   },
   {
    "duration": 81,
    "start_time": "2022-11-04T11:53:37.645Z"
   },
   {
    "duration": 263,
    "start_time": "2022-11-04T11:53:37.729Z"
   },
   {
    "duration": 15,
    "start_time": "2022-11-04T11:53:37.994Z"
   },
   {
    "duration": 9,
    "start_time": "2022-11-04T11:53:38.011Z"
   },
   {
    "duration": 11,
    "start_time": "2022-11-04T11:54:48.939Z"
   },
   {
    "duration": 72,
    "start_time": "2022-11-04T11:55:43.429Z"
   },
   {
    "duration": 13,
    "start_time": "2022-11-04T11:56:08.928Z"
   },
   {
    "duration": 93,
    "start_time": "2022-11-04T11:57:20.277Z"
   },
   {
    "duration": 18,
    "start_time": "2022-11-04T11:57:25.414Z"
   },
   {
    "duration": 1098,
    "start_time": "2022-11-04T11:57:47.513Z"
   },
   {
    "duration": 136,
    "start_time": "2022-11-04T11:57:48.613Z"
   },
   {
    "duration": 90,
    "start_time": "2022-11-04T11:57:48.751Z"
   },
   {
    "duration": 41,
    "start_time": "2022-11-04T11:57:48.843Z"
   },
   {
    "duration": 106,
    "start_time": "2022-11-04T11:57:48.886Z"
   },
   {
    "duration": 19,
    "start_time": "2022-11-04T11:57:48.994Z"
   },
   {
    "duration": 34,
    "start_time": "2022-11-04T11:57:49.015Z"
   },
   {
    "duration": 187,
    "start_time": "2022-11-04T11:57:49.052Z"
   },
   {
    "duration": 235,
    "start_time": "2022-11-04T11:57:49.241Z"
   },
   {
    "duration": 6,
    "start_time": "2022-11-04T11:57:49.477Z"
   },
   {
    "duration": 416,
    "start_time": "2022-11-04T11:57:49.485Z"
   },
   {
    "duration": 31,
    "start_time": "2022-11-04T11:57:49.902Z"
   },
   {
    "duration": 45,
    "start_time": "2022-11-04T11:57:49.935Z"
   },
   {
    "duration": 28,
    "start_time": "2022-11-04T11:57:49.982Z"
   },
   {
    "duration": 37,
    "start_time": "2022-11-04T11:57:50.012Z"
   },
   {
    "duration": 73,
    "start_time": "2022-11-04T11:57:50.051Z"
   },
   {
    "duration": 217,
    "start_time": "2022-11-04T11:57:50.126Z"
   },
   {
    "duration": 12,
    "start_time": "2022-11-04T11:57:50.345Z"
   },
   {
    "duration": 8,
    "start_time": "2022-11-04T11:57:50.358Z"
   },
   {
    "duration": 11,
    "start_time": "2022-11-04T11:57:50.377Z"
   },
   {
    "duration": 5399,
    "start_time": "2022-11-04T11:57:50.390Z"
   },
   {
    "duration": 35,
    "start_time": "2022-11-04T11:57:55.791Z"
   },
   {
    "duration": 50,
    "start_time": "2022-11-04T11:57:55.828Z"
   },
   {
    "duration": 35,
    "start_time": "2022-11-04T11:57:55.879Z"
   },
   {
    "duration": 16,
    "start_time": "2022-11-04T11:57:55.916Z"
   },
   {
    "duration": 12,
    "start_time": "2022-11-04T11:57:55.933Z"
   },
   {
    "duration": 33,
    "start_time": "2022-11-04T11:57:55.946Z"
   },
   {
    "duration": 9,
    "start_time": "2022-11-04T11:57:55.980Z"
   },
   {
    "duration": 13,
    "start_time": "2022-11-04T11:57:55.990Z"
   },
   {
    "duration": 11,
    "start_time": "2022-11-04T11:57:56.005Z"
   },
   {
    "duration": 6,
    "start_time": "2022-11-04T11:57:56.018Z"
   },
   {
    "duration": 12,
    "start_time": "2022-11-04T11:57:56.026Z"
   },
   {
    "duration": 45,
    "start_time": "2022-11-04T11:57:56.039Z"
   },
   {
    "duration": 10,
    "start_time": "2022-11-04T11:57:56.087Z"
   },
   {
    "duration": 8,
    "start_time": "2022-11-04T11:57:56.099Z"
   },
   {
    "duration": 69,
    "start_time": "2022-11-04T12:10:47.532Z"
   },
   {
    "duration": 1221,
    "start_time": "2022-11-04T12:11:04.528Z"
   },
   {
    "duration": 77,
    "start_time": "2022-11-04T12:11:16.674Z"
   },
   {
    "duration": 82,
    "start_time": "2022-11-04T12:11:41.429Z"
   },
   {
    "duration": 1237,
    "start_time": "2022-11-04T12:36:41.763Z"
   },
   {
    "duration": 1202,
    "start_time": "2022-11-04T12:36:52.966Z"
   },
   {
    "duration": 1188,
    "start_time": "2022-11-04T12:37:02.457Z"
   },
   {
    "duration": 66,
    "start_time": "2022-11-04T12:37:19.268Z"
   },
   {
    "duration": 91,
    "start_time": "2022-11-04T12:37:23.993Z"
   },
   {
    "duration": 1150,
    "start_time": "2022-11-04T12:37:43.246Z"
   },
   {
    "duration": 75,
    "start_time": "2022-11-04T12:38:01.325Z"
   },
   {
    "duration": 73,
    "start_time": "2022-11-04T12:38:26.637Z"
   },
   {
    "duration": 8,
    "start_time": "2022-11-04T12:41:01.326Z"
   },
   {
    "duration": 13,
    "start_time": "2022-11-04T12:41:28.265Z"
   },
   {
    "duration": 9,
    "start_time": "2022-11-04T12:46:11.292Z"
   },
   {
    "duration": 46,
    "start_time": "2022-11-04T12:46:21.776Z"
   },
   {
    "duration": 69,
    "start_time": "2022-11-04T12:46:42.314Z"
   },
   {
    "duration": 62,
    "start_time": "2022-11-04T12:46:55.633Z"
   },
   {
    "duration": 3,
    "start_time": "2022-11-04T12:47:09.926Z"
   },
   {
    "duration": 143,
    "start_time": "2022-11-04T12:47:09.931Z"
   },
   {
    "duration": 71,
    "start_time": "2022-11-04T12:47:10.075Z"
   },
   {
    "duration": 29,
    "start_time": "2022-11-04T12:47:10.148Z"
   },
   {
    "duration": 66,
    "start_time": "2022-11-04T12:47:10.179Z"
   },
   {
    "duration": 32,
    "start_time": "2022-11-04T12:47:10.247Z"
   },
   {
    "duration": 35,
    "start_time": "2022-11-04T12:47:10.281Z"
   },
   {
    "duration": 187,
    "start_time": "2022-11-04T12:47:10.317Z"
   },
   {
    "duration": 204,
    "start_time": "2022-11-04T12:47:10.506Z"
   },
   {
    "duration": 5,
    "start_time": "2022-11-04T12:47:10.712Z"
   },
   {
    "duration": 479,
    "start_time": "2022-11-04T12:47:10.719Z"
   },
   {
    "duration": 31,
    "start_time": "2022-11-04T12:47:11.200Z"
   },
   {
    "duration": 45,
    "start_time": "2022-11-04T12:47:11.233Z"
   },
   {
    "duration": 29,
    "start_time": "2022-11-04T12:47:11.279Z"
   },
   {
    "duration": 59,
    "start_time": "2022-11-04T12:47:17.655Z"
   },
   {
    "duration": 44,
    "start_time": "2022-11-04T12:47:23.526Z"
   },
   {
    "duration": 1046,
    "start_time": "2022-11-04T12:48:21.794Z"
   },
   {
    "duration": 138,
    "start_time": "2022-11-04T12:48:22.842Z"
   },
   {
    "duration": 78,
    "start_time": "2022-11-04T12:48:22.982Z"
   },
   {
    "duration": 24,
    "start_time": "2022-11-04T12:48:23.063Z"
   },
   {
    "duration": 69,
    "start_time": "2022-11-04T12:48:23.089Z"
   },
   {
    "duration": 34,
    "start_time": "2022-11-04T12:48:23.160Z"
   },
   {
    "duration": 36,
    "start_time": "2022-11-04T12:48:23.195Z"
   },
   {
    "duration": 191,
    "start_time": "2022-11-04T12:48:23.233Z"
   },
   {
    "duration": 243,
    "start_time": "2022-11-04T12:48:23.425Z"
   },
   {
    "duration": 6,
    "start_time": "2022-11-04T12:48:23.669Z"
   },
   {
    "duration": 427,
    "start_time": "2022-11-04T12:48:23.677Z"
   },
   {
    "duration": 32,
    "start_time": "2022-11-04T12:48:24.105Z"
   },
   {
    "duration": 43,
    "start_time": "2022-11-04T12:48:24.138Z"
   },
   {
    "duration": 28,
    "start_time": "2022-11-04T12:48:24.184Z"
   },
   {
    "duration": 45,
    "start_time": "2022-11-04T12:48:24.213Z"
   },
   {
    "duration": 59,
    "start_time": "2022-11-04T12:48:24.259Z"
   },
   {
    "duration": 64,
    "start_time": "2022-11-04T12:48:24.319Z"
   },
   {
    "duration": 218,
    "start_time": "2022-11-04T12:48:24.384Z"
   },
   {
    "duration": 13,
    "start_time": "2022-11-04T12:48:24.604Z"
   },
   {
    "duration": 8,
    "start_time": "2022-11-04T12:48:24.618Z"
   },
   {
    "duration": 11,
    "start_time": "2022-11-04T12:48:24.628Z"
   },
   {
    "duration": 69,
    "start_time": "2022-11-04T12:48:24.641Z"
   },
   {
    "duration": 168,
    "start_time": "2022-11-04T12:48:24.712Z"
   },
   {
    "duration": 0,
    "start_time": "2022-11-04T12:48:24.882Z"
   },
   {
    "duration": 0,
    "start_time": "2022-11-04T12:48:24.883Z"
   },
   {
    "duration": 0,
    "start_time": "2022-11-04T12:48:24.884Z"
   },
   {
    "duration": 0,
    "start_time": "2022-11-04T12:48:24.885Z"
   },
   {
    "duration": 0,
    "start_time": "2022-11-04T12:48:24.886Z"
   },
   {
    "duration": 0,
    "start_time": "2022-11-04T12:48:24.887Z"
   },
   {
    "duration": 0,
    "start_time": "2022-11-04T12:48:24.888Z"
   },
   {
    "duration": 0,
    "start_time": "2022-11-04T12:48:24.889Z"
   },
   {
    "duration": 0,
    "start_time": "2022-11-04T12:48:24.890Z"
   },
   {
    "duration": 0,
    "start_time": "2022-11-04T12:48:24.891Z"
   },
   {
    "duration": 0,
    "start_time": "2022-11-04T12:48:24.892Z"
   },
   {
    "duration": 0,
    "start_time": "2022-11-04T12:48:24.893Z"
   },
   {
    "duration": 0,
    "start_time": "2022-11-04T12:48:24.894Z"
   },
   {
    "duration": 0,
    "start_time": "2022-11-04T12:48:24.895Z"
   },
   {
    "duration": 0,
    "start_time": "2022-11-04T12:48:24.896Z"
   },
   {
    "duration": 83,
    "start_time": "2022-11-04T12:48:40.231Z"
   },
   {
    "duration": 1119,
    "start_time": "2022-11-04T12:48:43.866Z"
   },
   {
    "duration": 1127,
    "start_time": "2022-11-04T12:49:02.696Z"
   },
   {
    "duration": 1126,
    "start_time": "2022-11-04T12:50:30.461Z"
   },
   {
    "duration": 2,
    "start_time": "2022-11-04T12:50:55.806Z"
   },
   {
    "duration": 154,
    "start_time": "2022-11-04T12:50:55.810Z"
   },
   {
    "duration": 71,
    "start_time": "2022-11-04T12:50:55.966Z"
   },
   {
    "duration": 16,
    "start_time": "2022-11-04T12:50:56.038Z"
   },
   {
    "duration": 82,
    "start_time": "2022-11-04T12:50:56.056Z"
   },
   {
    "duration": 21,
    "start_time": "2022-11-04T12:50:56.140Z"
   },
   {
    "duration": 36,
    "start_time": "2022-11-04T12:50:56.176Z"
   },
   {
    "duration": 176,
    "start_time": "2022-11-04T12:50:56.213Z"
   },
   {
    "duration": 201,
    "start_time": "2022-11-04T12:50:56.391Z"
   },
   {
    "duration": 6,
    "start_time": "2022-11-04T12:50:56.594Z"
   },
   {
    "duration": 468,
    "start_time": "2022-11-04T12:50:56.601Z"
   },
   {
    "duration": 28,
    "start_time": "2022-11-04T12:50:57.076Z"
   },
   {
    "duration": 28,
    "start_time": "2022-11-04T12:50:57.106Z"
   },
   {
    "duration": 60,
    "start_time": "2022-11-04T12:50:57.136Z"
   },
   {
    "duration": 48,
    "start_time": "2022-11-04T12:50:57.198Z"
   },
   {
    "duration": 60,
    "start_time": "2022-11-04T12:50:57.248Z"
   },
   {
    "duration": 53,
    "start_time": "2022-11-04T12:50:57.309Z"
   },
   {
    "duration": 245,
    "start_time": "2022-11-04T12:50:57.376Z"
   },
   {
    "duration": 14,
    "start_time": "2022-11-04T12:50:57.623Z"
   },
   {
    "duration": 12,
    "start_time": "2022-11-04T12:50:57.639Z"
   },
   {
    "duration": 33,
    "start_time": "2022-11-04T12:50:57.652Z"
   },
   {
    "duration": 52,
    "start_time": "2022-11-04T12:50:57.687Z"
   },
   {
    "duration": 97,
    "start_time": "2022-11-04T12:50:57.741Z"
   },
   {
    "duration": 1107,
    "start_time": "2022-11-04T12:51:00.856Z"
   },
   {
    "duration": 10,
    "start_time": "2022-11-04T12:53:32.401Z"
   },
   {
    "duration": 43,
    "start_time": "2022-11-04T12:53:33.428Z"
   },
   {
    "duration": 1358,
    "start_time": "2022-11-06T17:14:22.786Z"
   },
   {
    "duration": 1885,
    "start_time": "2022-11-06T17:14:24.145Z"
   },
   {
    "duration": 92,
    "start_time": "2022-11-06T17:14:26.032Z"
   },
   {
    "duration": 33,
    "start_time": "2022-11-06T17:14:26.126Z"
   },
   {
    "duration": 77,
    "start_time": "2022-11-06T17:14:26.161Z"
   },
   {
    "duration": 28,
    "start_time": "2022-11-06T17:14:26.240Z"
   },
   {
    "duration": 52,
    "start_time": "2022-11-06T17:14:26.277Z"
   },
   {
    "duration": 197,
    "start_time": "2022-11-06T17:14:26.331Z"
   },
   {
    "duration": 246,
    "start_time": "2022-11-06T17:14:26.530Z"
   },
   {
    "duration": 7,
    "start_time": "2022-11-06T17:14:26.778Z"
   },
   {
    "duration": 451,
    "start_time": "2022-11-06T17:14:26.786Z"
   },
   {
    "duration": 40,
    "start_time": "2022-11-06T17:14:27.239Z"
   },
   {
    "duration": 35,
    "start_time": "2022-11-06T17:14:27.281Z"
   },
   {
    "duration": 29,
    "start_time": "2022-11-06T17:14:27.319Z"
   },
   {
    "duration": 73,
    "start_time": "2022-11-06T17:14:27.350Z"
   },
   {
    "duration": 66,
    "start_time": "2022-11-06T17:14:27.425Z"
   },
   {
    "duration": 53,
    "start_time": "2022-11-06T17:14:27.493Z"
   },
   {
    "duration": 298,
    "start_time": "2022-11-06T17:14:27.547Z"
   },
   {
    "duration": 19,
    "start_time": "2022-11-06T17:14:27.847Z"
   },
   {
    "duration": 51,
    "start_time": "2022-11-06T17:14:27.868Z"
   },
   {
    "duration": 18,
    "start_time": "2022-11-06T17:14:27.921Z"
   },
   {
    "duration": 196,
    "start_time": "2022-11-06T17:14:27.941Z"
   },
   {
    "duration": 0,
    "start_time": "2022-11-06T17:14:28.139Z"
   },
   {
    "duration": 0,
    "start_time": "2022-11-06T17:14:28.141Z"
   },
   {
    "duration": 0,
    "start_time": "2022-11-06T17:14:28.142Z"
   },
   {
    "duration": 0,
    "start_time": "2022-11-06T17:14:28.143Z"
   },
   {
    "duration": 0,
    "start_time": "2022-11-06T17:14:28.143Z"
   },
   {
    "duration": 0,
    "start_time": "2022-11-06T17:14:28.144Z"
   },
   {
    "duration": 0,
    "start_time": "2022-11-06T17:14:28.145Z"
   },
   {
    "duration": 0,
    "start_time": "2022-11-06T17:14:28.146Z"
   },
   {
    "duration": 0,
    "start_time": "2022-11-06T17:14:28.148Z"
   },
   {
    "duration": 0,
    "start_time": "2022-11-06T17:14:28.149Z"
   },
   {
    "duration": 0,
    "start_time": "2022-11-06T17:14:28.150Z"
   },
   {
    "duration": 0,
    "start_time": "2022-11-06T17:14:28.151Z"
   },
   {
    "duration": 1,
    "start_time": "2022-11-06T17:14:28.151Z"
   },
   {
    "duration": 0,
    "start_time": "2022-11-06T17:14:28.153Z"
   },
   {
    "duration": 0,
    "start_time": "2022-11-06T17:14:28.153Z"
   },
   {
    "duration": 0,
    "start_time": "2022-11-06T17:14:28.177Z"
   },
   {
    "duration": 5420,
    "start_time": "2022-11-06T17:16:01.123Z"
   },
   {
    "duration": 86,
    "start_time": "2022-11-06T17:16:10.311Z"
   },
   {
    "duration": 18,
    "start_time": "2022-11-06T17:16:17.262Z"
   },
   {
    "duration": 22,
    "start_time": "2022-11-06T17:17:50.470Z"
   },
   {
    "duration": 51,
    "start_time": "2022-11-08T09:45:01.823Z"
   },
   {
    "duration": 1331,
    "start_time": "2022-11-08T09:45:13.566Z"
   },
   {
    "duration": 535,
    "start_time": "2022-11-08T09:45:14.899Z"
   },
   {
    "duration": 94,
    "start_time": "2022-11-08T09:45:15.436Z"
   },
   {
    "duration": 34,
    "start_time": "2022-11-08T09:45:15.533Z"
   },
   {
    "duration": 98,
    "start_time": "2022-11-08T09:45:15.570Z"
   },
   {
    "duration": 24,
    "start_time": "2022-11-08T09:45:15.669Z"
   },
   {
    "duration": 65,
    "start_time": "2022-11-08T09:45:15.695Z"
   },
   {
    "duration": 215,
    "start_time": "2022-11-08T09:45:15.762Z"
   },
   {
    "duration": 278,
    "start_time": "2022-11-08T09:45:15.979Z"
   },
   {
    "duration": 103,
    "start_time": "2022-11-08T09:45:16.261Z"
   },
   {
    "duration": 0,
    "start_time": "2022-11-08T09:45:16.366Z"
   },
   {
    "duration": 0,
    "start_time": "2022-11-08T09:45:16.368Z"
   },
   {
    "duration": 0,
    "start_time": "2022-11-08T09:45:16.369Z"
   },
   {
    "duration": 0,
    "start_time": "2022-11-08T09:45:16.371Z"
   },
   {
    "duration": 0,
    "start_time": "2022-11-08T09:45:16.372Z"
   },
   {
    "duration": 0,
    "start_time": "2022-11-08T09:45:16.374Z"
   },
   {
    "duration": 0,
    "start_time": "2022-11-08T09:45:16.375Z"
   },
   {
    "duration": 0,
    "start_time": "2022-11-08T09:45:16.376Z"
   },
   {
    "duration": 0,
    "start_time": "2022-11-08T09:45:16.377Z"
   },
   {
    "duration": 0,
    "start_time": "2022-11-08T09:45:16.378Z"
   },
   {
    "duration": 0,
    "start_time": "2022-11-08T09:45:16.379Z"
   },
   {
    "duration": 0,
    "start_time": "2022-11-08T09:45:16.380Z"
   },
   {
    "duration": 0,
    "start_time": "2022-11-08T09:45:16.382Z"
   },
   {
    "duration": 0,
    "start_time": "2022-11-08T09:45:16.383Z"
   },
   {
    "duration": 0,
    "start_time": "2022-11-08T09:45:16.384Z"
   },
   {
    "duration": 0,
    "start_time": "2022-11-08T09:45:16.386Z"
   },
   {
    "duration": 0,
    "start_time": "2022-11-08T09:45:16.387Z"
   },
   {
    "duration": 0,
    "start_time": "2022-11-08T09:45:16.388Z"
   },
   {
    "duration": 0,
    "start_time": "2022-11-08T09:45:16.390Z"
   },
   {
    "duration": 0,
    "start_time": "2022-11-08T09:45:16.391Z"
   },
   {
    "duration": 0,
    "start_time": "2022-11-08T09:45:16.392Z"
   },
   {
    "duration": 0,
    "start_time": "2022-11-08T09:45:16.393Z"
   },
   {
    "duration": 0,
    "start_time": "2022-11-08T09:45:16.394Z"
   },
   {
    "duration": 0,
    "start_time": "2022-11-08T09:45:16.395Z"
   },
   {
    "duration": 0,
    "start_time": "2022-11-08T09:45:16.396Z"
   },
   {
    "duration": 0,
    "start_time": "2022-11-08T09:45:16.446Z"
   },
   {
    "duration": 0,
    "start_time": "2022-11-08T09:45:16.448Z"
   },
   {
    "duration": 0,
    "start_time": "2022-11-08T09:45:16.449Z"
   },
   {
    "duration": 0,
    "start_time": "2022-11-08T09:45:16.451Z"
   },
   {
    "duration": 0,
    "start_time": "2022-11-08T09:45:16.452Z"
   },
   {
    "duration": 6,
    "start_time": "2022-11-08T09:45:50.727Z"
   },
   {
    "duration": 6,
    "start_time": "2022-11-08T09:49:13.147Z"
   },
   {
    "duration": 3,
    "start_time": "2022-11-08T09:49:29.843Z"
   },
   {
    "duration": 243,
    "start_time": "2022-11-08T09:49:29.848Z"
   },
   {
    "duration": 82,
    "start_time": "2022-11-08T09:49:30.093Z"
   },
   {
    "duration": 18,
    "start_time": "2022-11-08T09:49:30.177Z"
   },
   {
    "duration": 100,
    "start_time": "2022-11-08T09:49:30.197Z"
   },
   {
    "duration": 19,
    "start_time": "2022-11-08T09:49:30.299Z"
   },
   {
    "duration": 56,
    "start_time": "2022-11-08T09:49:30.320Z"
   },
   {
    "duration": 191,
    "start_time": "2022-11-08T09:49:30.378Z"
   },
   {
    "duration": 235,
    "start_time": "2022-11-08T09:49:30.571Z"
   },
   {
    "duration": 6,
    "start_time": "2022-11-08T09:49:30.809Z"
   },
   {
    "duration": 6,
    "start_time": "2022-11-08T09:49:46.079Z"
   },
   {
    "duration": 489,
    "start_time": "2022-11-08T09:49:46.087Z"
   },
   {
    "duration": 35,
    "start_time": "2022-11-08T09:49:46.578Z"
   },
   {
    "duration": 51,
    "start_time": "2022-11-08T09:49:46.615Z"
   },
   {
    "duration": 32,
    "start_time": "2022-11-08T09:49:46.667Z"
   },
   {
    "duration": 73,
    "start_time": "2022-11-08T09:49:46.701Z"
   },
   {
    "duration": 54,
    "start_time": "2022-11-08T09:49:46.776Z"
   },
   {
    "duration": 72,
    "start_time": "2022-11-08T09:49:46.831Z"
   },
   {
    "duration": 270,
    "start_time": "2022-11-08T09:49:46.905Z"
   },
   {
    "duration": 15,
    "start_time": "2022-11-08T09:49:47.177Z"
   },
   {
    "duration": 11,
    "start_time": "2022-11-08T09:49:47.195Z"
   },
   {
    "duration": 39,
    "start_time": "2022-11-08T09:49:47.208Z"
   },
   {
    "duration": 5798,
    "start_time": "2022-11-08T09:49:47.249Z"
   },
   {
    "duration": 101,
    "start_time": "2022-11-08T09:49:53.049Z"
   },
   {
    "duration": 19,
    "start_time": "2022-11-08T09:49:53.152Z"
   },
   {
    "duration": 17,
    "start_time": "2022-11-08T09:49:53.172Z"
   },
   {
    "duration": 0,
    "start_time": "2022-11-08T09:49:53.192Z"
   },
   {
    "duration": 0,
    "start_time": "2022-11-08T09:49:53.193Z"
   },
   {
    "duration": 0,
    "start_time": "2022-11-08T09:49:53.195Z"
   },
   {
    "duration": 0,
    "start_time": "2022-11-08T09:49:53.196Z"
   },
   {
    "duration": 0,
    "start_time": "2022-11-08T09:49:53.198Z"
   },
   {
    "duration": 0,
    "start_time": "2022-11-08T09:49:53.199Z"
   },
   {
    "duration": 0,
    "start_time": "2022-11-08T09:49:53.200Z"
   },
   {
    "duration": 0,
    "start_time": "2022-11-08T09:49:53.202Z"
   },
   {
    "duration": 0,
    "start_time": "2022-11-08T09:49:53.203Z"
   },
   {
    "duration": 0,
    "start_time": "2022-11-08T09:49:53.246Z"
   },
   {
    "duration": 0,
    "start_time": "2022-11-08T09:49:53.248Z"
   },
   {
    "duration": 0,
    "start_time": "2022-11-08T09:49:53.250Z"
   },
   {
    "duration": 0,
    "start_time": "2022-11-08T09:49:53.251Z"
   },
   {
    "duration": 0,
    "start_time": "2022-11-08T09:49:53.253Z"
   },
   {
    "duration": 42,
    "start_time": "2022-11-08T09:51:54.921Z"
   },
   {
    "duration": 1189,
    "start_time": "2022-11-08T09:52:09.419Z"
   },
   {
    "duration": 158,
    "start_time": "2022-11-08T09:52:10.610Z"
   },
   {
    "duration": 97,
    "start_time": "2022-11-08T09:52:10.769Z"
   },
   {
    "duration": 19,
    "start_time": "2022-11-08T09:52:10.868Z"
   },
   {
    "duration": 104,
    "start_time": "2022-11-08T09:52:10.890Z"
   },
   {
    "duration": 21,
    "start_time": "2022-11-08T09:52:10.996Z"
   },
   {
    "duration": 53,
    "start_time": "2022-11-08T09:52:11.018Z"
   },
   {
    "duration": 217,
    "start_time": "2022-11-08T09:52:11.073Z"
   },
   {
    "duration": 246,
    "start_time": "2022-11-08T09:52:11.291Z"
   },
   {
    "duration": 5,
    "start_time": "2022-11-08T09:52:11.541Z"
   },
   {
    "duration": 9,
    "start_time": "2022-11-08T09:52:11.548Z"
   },
   {
    "duration": 486,
    "start_time": "2022-11-08T09:52:11.558Z"
   },
   {
    "duration": 37,
    "start_time": "2022-11-08T09:52:12.046Z"
   },
   {
    "duration": 35,
    "start_time": "2022-11-08T09:52:12.085Z"
   },
   {
    "duration": 57,
    "start_time": "2022-11-08T09:52:12.121Z"
   },
   {
    "duration": 72,
    "start_time": "2022-11-08T09:52:12.180Z"
   },
   {
    "duration": 63,
    "start_time": "2022-11-08T09:52:12.254Z"
   },
   {
    "duration": 76,
    "start_time": "2022-11-08T09:52:12.318Z"
   },
   {
    "duration": 245,
    "start_time": "2022-11-08T09:52:12.396Z"
   },
   {
    "duration": 15,
    "start_time": "2022-11-08T09:52:12.645Z"
   },
   {
    "duration": 11,
    "start_time": "2022-11-08T09:52:12.661Z"
   },
   {
    "duration": 19,
    "start_time": "2022-11-08T09:52:12.673Z"
   },
   {
    "duration": 5884,
    "start_time": "2022-11-08T09:52:12.694Z"
   },
   {
    "duration": 98,
    "start_time": "2022-11-08T09:52:18.579Z"
   },
   {
    "duration": 16,
    "start_time": "2022-11-08T09:52:18.679Z"
   },
   {
    "duration": 117,
    "start_time": "2022-11-08T09:52:18.697Z"
   },
   {
    "duration": 0,
    "start_time": "2022-11-08T09:52:18.816Z"
   },
   {
    "duration": 0,
    "start_time": "2022-11-08T09:52:18.817Z"
   },
   {
    "duration": 0,
    "start_time": "2022-11-08T09:52:18.818Z"
   },
   {
    "duration": 0,
    "start_time": "2022-11-08T09:52:18.819Z"
   },
   {
    "duration": 0,
    "start_time": "2022-11-08T09:52:18.821Z"
   },
   {
    "duration": 0,
    "start_time": "2022-11-08T09:52:18.822Z"
   },
   {
    "duration": 0,
    "start_time": "2022-11-08T09:52:18.823Z"
   },
   {
    "duration": 0,
    "start_time": "2022-11-08T09:52:18.824Z"
   },
   {
    "duration": 0,
    "start_time": "2022-11-08T09:52:18.825Z"
   },
   {
    "duration": 0,
    "start_time": "2022-11-08T09:52:18.826Z"
   },
   {
    "duration": 0,
    "start_time": "2022-11-08T09:52:18.845Z"
   },
   {
    "duration": 0,
    "start_time": "2022-11-08T09:52:18.847Z"
   },
   {
    "duration": 0,
    "start_time": "2022-11-08T09:52:18.848Z"
   },
   {
    "duration": 0,
    "start_time": "2022-11-08T09:52:18.849Z"
   },
   {
    "duration": 96,
    "start_time": "2022-11-08T09:53:34.683Z"
   },
   {
    "duration": 1281,
    "start_time": "2022-11-08T09:53:47.723Z"
   },
   {
    "duration": 176,
    "start_time": "2022-11-08T09:53:49.006Z"
   },
   {
    "duration": 119,
    "start_time": "2022-11-08T09:53:49.184Z"
   },
   {
    "duration": 22,
    "start_time": "2022-11-08T09:53:49.306Z"
   },
   {
    "duration": 80,
    "start_time": "2022-11-08T09:53:49.346Z"
   },
   {
    "duration": 36,
    "start_time": "2022-11-08T09:53:49.428Z"
   },
   {
    "duration": 40,
    "start_time": "2022-11-08T09:53:49.466Z"
   },
   {
    "duration": 208,
    "start_time": "2022-11-08T09:53:49.508Z"
   },
   {
    "duration": 267,
    "start_time": "2022-11-08T09:53:49.718Z"
   },
   {
    "duration": 5,
    "start_time": "2022-11-08T09:53:49.988Z"
   },
   {
    "duration": 12,
    "start_time": "2022-11-08T09:53:49.995Z"
   },
   {
    "duration": 473,
    "start_time": "2022-11-08T09:53:50.009Z"
   },
   {
    "duration": 34,
    "start_time": "2022-11-08T09:53:50.484Z"
   },
   {
    "duration": 50,
    "start_time": "2022-11-08T09:53:50.520Z"
   },
   {
    "duration": 33,
    "start_time": "2022-11-08T09:53:50.572Z"
   },
   {
    "duration": 80,
    "start_time": "2022-11-08T09:53:50.607Z"
   },
   {
    "duration": 59,
    "start_time": "2022-11-08T09:53:50.688Z"
   },
   {
    "duration": 56,
    "start_time": "2022-11-08T09:53:50.749Z"
   },
   {
    "duration": 265,
    "start_time": "2022-11-08T09:53:50.807Z"
   },
   {
    "duration": 15,
    "start_time": "2022-11-08T09:53:51.073Z"
   },
   {
    "duration": 52,
    "start_time": "2022-11-08T09:53:51.089Z"
   },
   {
    "duration": 14,
    "start_time": "2022-11-08T09:53:51.143Z"
   },
   {
    "duration": 5916,
    "start_time": "2022-11-08T09:53:51.159Z"
   },
   {
    "duration": 96,
    "start_time": "2022-11-08T09:53:57.077Z"
   },
   {
    "duration": 18,
    "start_time": "2022-11-08T09:53:57.175Z"
   },
   {
    "duration": 118,
    "start_time": "2022-11-08T09:53:57.194Z"
   },
   {
    "duration": 0,
    "start_time": "2022-11-08T09:53:57.314Z"
   },
   {
    "duration": 0,
    "start_time": "2022-11-08T09:53:57.315Z"
   },
   {
    "duration": 0,
    "start_time": "2022-11-08T09:53:57.316Z"
   },
   {
    "duration": 0,
    "start_time": "2022-11-08T09:53:57.318Z"
   },
   {
    "duration": 0,
    "start_time": "2022-11-08T09:53:57.319Z"
   },
   {
    "duration": 0,
    "start_time": "2022-11-08T09:53:57.320Z"
   },
   {
    "duration": 0,
    "start_time": "2022-11-08T09:53:57.321Z"
   },
   {
    "duration": 0,
    "start_time": "2022-11-08T09:53:57.323Z"
   },
   {
    "duration": 0,
    "start_time": "2022-11-08T09:53:57.324Z"
   },
   {
    "duration": 0,
    "start_time": "2022-11-08T09:53:57.346Z"
   },
   {
    "duration": 0,
    "start_time": "2022-11-08T09:53:57.347Z"
   },
   {
    "duration": 0,
    "start_time": "2022-11-08T09:53:57.348Z"
   },
   {
    "duration": 0,
    "start_time": "2022-11-08T09:53:57.349Z"
   },
   {
    "duration": 0,
    "start_time": "2022-11-08T09:53:57.350Z"
   },
   {
    "duration": 4,
    "start_time": "2022-11-08T09:59:34.155Z"
   },
   {
    "duration": 5,
    "start_time": "2022-11-08T09:59:34.904Z"
   },
   {
    "duration": 11,
    "start_time": "2022-11-08T09:59:35.862Z"
   },
   {
    "duration": 7,
    "start_time": "2022-11-08T10:01:18.400Z"
   },
   {
    "duration": 7,
    "start_time": "2022-11-08T10:01:26.771Z"
   },
   {
    "duration": 8,
    "start_time": "2022-11-08T10:04:20.819Z"
   },
   {
    "duration": 8,
    "start_time": "2022-11-08T10:08:11.572Z"
   },
   {
    "duration": 7,
    "start_time": "2022-11-08T10:08:39.608Z"
   },
   {
    "duration": 8,
    "start_time": "2022-11-08T10:08:58.747Z"
   },
   {
    "duration": 7,
    "start_time": "2022-11-08T10:08:59.148Z"
   },
   {
    "duration": 7,
    "start_time": "2022-11-08T10:08:59.995Z"
   },
   {
    "duration": 1013,
    "start_time": "2022-11-08T10:48:18.002Z"
   },
   {
    "duration": 166,
    "start_time": "2022-11-08T10:48:19.017Z"
   },
   {
    "duration": 99,
    "start_time": "2022-11-08T10:48:19.185Z"
   },
   {
    "duration": 18,
    "start_time": "2022-11-08T10:48:19.285Z"
   },
   {
    "duration": 98,
    "start_time": "2022-11-08T10:48:19.305Z"
   },
   {
    "duration": 21,
    "start_time": "2022-11-08T10:48:19.405Z"
   },
   {
    "duration": 53,
    "start_time": "2022-11-08T10:48:19.428Z"
   },
   {
    "duration": 198,
    "start_time": "2022-11-08T10:48:19.483Z"
   },
   {
    "duration": 250,
    "start_time": "2022-11-08T10:48:19.683Z"
   },
   {
    "duration": 6,
    "start_time": "2022-11-08T10:48:19.935Z"
   },
   {
    "duration": 27,
    "start_time": "2022-11-08T10:48:19.942Z"
   },
   {
    "duration": 471,
    "start_time": "2022-11-08T10:48:19.970Z"
   },
   {
    "duration": 34,
    "start_time": "2022-11-08T10:48:20.442Z"
   },
   {
    "duration": 32,
    "start_time": "2022-11-08T10:48:20.479Z"
   },
   {
    "duration": 108,
    "start_time": "2022-11-08T10:48:20.512Z"
   },
   {
    "duration": 52,
    "start_time": "2022-11-08T10:48:20.622Z"
   },
   {
    "duration": 48,
    "start_time": "2022-11-08T10:48:20.676Z"
   },
   {
    "duration": 61,
    "start_time": "2022-11-08T10:48:20.726Z"
   },
   {
    "duration": 240,
    "start_time": "2022-11-08T10:48:20.788Z"
   },
   {
    "duration": 20,
    "start_time": "2022-11-08T10:48:21.029Z"
   },
   {
    "duration": 17,
    "start_time": "2022-11-08T10:48:21.050Z"
   },
   {
    "duration": 32,
    "start_time": "2022-11-08T10:48:21.069Z"
   },
   {
    "duration": 5659,
    "start_time": "2022-11-08T10:48:21.103Z"
   },
   {
    "duration": 97,
    "start_time": "2022-11-08T10:48:26.764Z"
   },
   {
    "duration": 17,
    "start_time": "2022-11-08T10:48:26.863Z"
   },
   {
    "duration": 3,
    "start_time": "2022-11-08T10:48:26.881Z"
   },
   {
    "duration": 12,
    "start_time": "2022-11-08T10:48:26.885Z"
   },
   {
    "duration": 14,
    "start_time": "2022-11-08T10:48:26.898Z"
   },
   {
    "duration": 13,
    "start_time": "2022-11-08T10:48:26.914Z"
   },
   {
    "duration": 22,
    "start_time": "2022-11-08T10:48:26.929Z"
   },
   {
    "duration": 15,
    "start_time": "2022-11-08T10:48:26.953Z"
   },
   {
    "duration": 16,
    "start_time": "2022-11-08T10:48:26.970Z"
   },
   {
    "duration": 21,
    "start_time": "2022-11-08T10:48:26.987Z"
   },
   {
    "duration": 17,
    "start_time": "2022-11-08T10:48:27.010Z"
   },
   {
    "duration": 19,
    "start_time": "2022-11-08T10:48:27.029Z"
   },
   {
    "duration": 11,
    "start_time": "2022-11-08T10:48:27.049Z"
   },
   {
    "duration": 1008,
    "start_time": "2022-11-08T15:31:04.467Z"
   },
   {
    "duration": 134,
    "start_time": "2022-11-08T15:31:05.477Z"
   },
   {
    "duration": 83,
    "start_time": "2022-11-08T15:31:05.613Z"
   },
   {
    "duration": 18,
    "start_time": "2022-11-08T15:31:05.698Z"
   },
   {
    "duration": 84,
    "start_time": "2022-11-08T15:31:05.717Z"
   },
   {
    "duration": 34,
    "start_time": "2022-11-08T15:31:05.803Z"
   },
   {
    "duration": 35,
    "start_time": "2022-11-08T15:31:05.838Z"
   },
   {
    "duration": 184,
    "start_time": "2022-11-08T15:31:05.875Z"
   },
   {
    "duration": 262,
    "start_time": "2022-11-08T15:31:06.061Z"
   },
   {
    "duration": 5,
    "start_time": "2022-11-08T15:31:06.326Z"
   },
   {
    "duration": 9,
    "start_time": "2022-11-08T15:31:06.333Z"
   },
   {
    "duration": 451,
    "start_time": "2022-11-08T15:31:06.343Z"
   },
   {
    "duration": 40,
    "start_time": "2022-11-08T15:31:06.795Z"
   },
   {
    "duration": 30,
    "start_time": "2022-11-08T15:31:06.837Z"
   },
   {
    "duration": 31,
    "start_time": "2022-11-08T15:31:06.869Z"
   },
   {
    "duration": 70,
    "start_time": "2022-11-08T15:31:06.901Z"
   },
   {
    "duration": 46,
    "start_time": "2022-11-08T15:31:06.973Z"
   },
   {
    "duration": 66,
    "start_time": "2022-11-08T15:31:07.021Z"
   },
   {
    "duration": 231,
    "start_time": "2022-11-08T15:31:07.088Z"
   },
   {
    "duration": 22,
    "start_time": "2022-11-08T15:31:07.320Z"
   },
   {
    "duration": 7,
    "start_time": "2022-11-08T15:31:07.344Z"
   },
   {
    "duration": 13,
    "start_time": "2022-11-08T15:31:07.353Z"
   },
   {
    "duration": 5676,
    "start_time": "2022-11-08T15:31:07.367Z"
   },
   {
    "duration": 82,
    "start_time": "2022-11-08T15:31:13.045Z"
   },
   {
    "duration": 16,
    "start_time": "2022-11-08T15:31:13.135Z"
   },
   {
    "duration": 7,
    "start_time": "2022-11-08T15:31:13.153Z"
   },
   {
    "duration": 6,
    "start_time": "2022-11-08T15:31:13.162Z"
   },
   {
    "duration": 9,
    "start_time": "2022-11-08T15:31:13.171Z"
   },
   {
    "duration": 7,
    "start_time": "2022-11-08T15:31:13.182Z"
   },
   {
    "duration": 6,
    "start_time": "2022-11-08T15:31:13.191Z"
   },
   {
    "duration": 43,
    "start_time": "2022-11-08T15:31:13.199Z"
   },
   {
    "duration": 2,
    "start_time": "2022-11-08T15:31:13.244Z"
   },
   {
    "duration": 11,
    "start_time": "2022-11-08T15:31:13.247Z"
   },
   {
    "duration": 8,
    "start_time": "2022-11-08T15:31:13.259Z"
   },
   {
    "duration": 9,
    "start_time": "2022-11-08T15:31:13.268Z"
   },
   {
    "duration": 11,
    "start_time": "2022-11-08T15:31:13.278Z"
   },
   {
    "duration": 1107,
    "start_time": "2022-11-08T15:31:59.414Z"
   },
   {
    "duration": 132,
    "start_time": "2022-11-08T15:32:00.523Z"
   },
   {
    "duration": 79,
    "start_time": "2022-11-08T15:32:00.657Z"
   },
   {
    "duration": 18,
    "start_time": "2022-11-08T15:32:00.738Z"
   },
   {
    "duration": 158,
    "start_time": "2022-11-08T15:32:00.758Z"
   },
   {
    "duration": 0,
    "start_time": "2022-11-08T15:32:00.919Z"
   },
   {
    "duration": 0,
    "start_time": "2022-11-08T15:32:00.921Z"
   },
   {
    "duration": 0,
    "start_time": "2022-11-08T15:32:00.922Z"
   },
   {
    "duration": 0,
    "start_time": "2022-11-08T15:32:00.935Z"
   },
   {
    "duration": 0,
    "start_time": "2022-11-08T15:32:00.936Z"
   },
   {
    "duration": 0,
    "start_time": "2022-11-08T15:32:00.937Z"
   },
   {
    "duration": 0,
    "start_time": "2022-11-08T15:32:00.939Z"
   },
   {
    "duration": 0,
    "start_time": "2022-11-08T15:32:00.940Z"
   },
   {
    "duration": 0,
    "start_time": "2022-11-08T15:32:00.941Z"
   },
   {
    "duration": 0,
    "start_time": "2022-11-08T15:32:00.942Z"
   },
   {
    "duration": 0,
    "start_time": "2022-11-08T15:32:00.944Z"
   },
   {
    "duration": 0,
    "start_time": "2022-11-08T15:32:00.945Z"
   },
   {
    "duration": 0,
    "start_time": "2022-11-08T15:32:00.946Z"
   },
   {
    "duration": 0,
    "start_time": "2022-11-08T15:32:00.947Z"
   },
   {
    "duration": 0,
    "start_time": "2022-11-08T15:32:00.948Z"
   },
   {
    "duration": 0,
    "start_time": "2022-11-08T15:32:00.948Z"
   },
   {
    "duration": 0,
    "start_time": "2022-11-08T15:32:00.949Z"
   },
   {
    "duration": 0,
    "start_time": "2022-11-08T15:32:00.950Z"
   },
   {
    "duration": 0,
    "start_time": "2022-11-08T15:32:00.951Z"
   },
   {
    "duration": 0,
    "start_time": "2022-11-08T15:32:00.952Z"
   },
   {
    "duration": 0,
    "start_time": "2022-11-08T15:32:00.953Z"
   },
   {
    "duration": 0,
    "start_time": "2022-11-08T15:32:00.954Z"
   },
   {
    "duration": 0,
    "start_time": "2022-11-08T15:32:00.955Z"
   },
   {
    "duration": 0,
    "start_time": "2022-11-08T15:32:00.956Z"
   },
   {
    "duration": 0,
    "start_time": "2022-11-08T15:32:00.956Z"
   },
   {
    "duration": 0,
    "start_time": "2022-11-08T15:32:00.957Z"
   },
   {
    "duration": 0,
    "start_time": "2022-11-08T15:32:00.958Z"
   },
   {
    "duration": 0,
    "start_time": "2022-11-08T15:32:00.959Z"
   },
   {
    "duration": 0,
    "start_time": "2022-11-08T15:32:00.960Z"
   },
   {
    "duration": 0,
    "start_time": "2022-11-08T15:32:00.961Z"
   },
   {
    "duration": 0,
    "start_time": "2022-11-08T15:32:00.962Z"
   },
   {
    "duration": 68,
    "start_time": "2022-11-08T15:32:14.660Z"
   },
   {
    "duration": 1089,
    "start_time": "2022-11-08T15:32:26.006Z"
   },
   {
    "duration": 135,
    "start_time": "2022-11-08T15:32:27.097Z"
   },
   {
    "duration": 84,
    "start_time": "2022-11-08T15:32:27.234Z"
   },
   {
    "duration": 26,
    "start_time": "2022-11-08T15:32:27.319Z"
   },
   {
    "duration": 68,
    "start_time": "2022-11-08T15:32:27.347Z"
   },
   {
    "duration": 34,
    "start_time": "2022-11-08T15:32:27.417Z"
   },
   {
    "duration": 35,
    "start_time": "2022-11-08T15:32:27.453Z"
   },
   {
    "duration": 194,
    "start_time": "2022-11-08T15:32:27.490Z"
   },
   {
    "duration": 234,
    "start_time": "2022-11-08T15:32:27.685Z"
   },
   {
    "duration": 4,
    "start_time": "2022-11-08T15:32:27.921Z"
   },
   {
    "duration": 8,
    "start_time": "2022-11-08T15:32:27.927Z"
   },
   {
    "duration": 424,
    "start_time": "2022-11-08T15:32:27.936Z"
   },
   {
    "duration": 31,
    "start_time": "2022-11-08T15:32:28.362Z"
   },
   {
    "duration": 48,
    "start_time": "2022-11-08T15:32:28.396Z"
   },
   {
    "duration": 29,
    "start_time": "2022-11-08T15:32:28.446Z"
   },
   {
    "duration": 59,
    "start_time": "2022-11-08T15:32:28.477Z"
   },
   {
    "duration": 47,
    "start_time": "2022-11-08T15:32:28.538Z"
   },
   {
    "duration": 72,
    "start_time": "2022-11-08T15:32:28.586Z"
   },
   {
    "duration": 227,
    "start_time": "2022-11-08T15:32:28.660Z"
   },
   {
    "duration": 18,
    "start_time": "2022-11-08T15:32:28.889Z"
   },
   {
    "duration": 9,
    "start_time": "2022-11-08T15:32:28.908Z"
   },
   {
    "duration": 12,
    "start_time": "2022-11-08T15:32:28.935Z"
   },
   {
    "duration": 5284,
    "start_time": "2022-11-08T15:32:28.949Z"
   },
   {
    "duration": 77,
    "start_time": "2022-11-08T15:32:34.235Z"
   },
   {
    "duration": 29,
    "start_time": "2022-11-08T15:32:34.313Z"
   },
   {
    "duration": 5,
    "start_time": "2022-11-08T15:32:34.343Z"
   },
   {
    "duration": 5,
    "start_time": "2022-11-08T15:32:34.350Z"
   },
   {
    "duration": 11,
    "start_time": "2022-11-08T15:32:34.356Z"
   },
   {
    "duration": 7,
    "start_time": "2022-11-08T15:32:34.368Z"
   },
   {
    "duration": 7,
    "start_time": "2022-11-08T15:32:34.377Z"
   },
   {
    "duration": 7,
    "start_time": "2022-11-08T15:32:34.385Z"
   },
   {
    "duration": 2,
    "start_time": "2022-11-08T15:32:34.394Z"
   },
   {
    "duration": 40,
    "start_time": "2022-11-08T15:32:34.398Z"
   },
   {
    "duration": 9,
    "start_time": "2022-11-08T15:32:34.440Z"
   },
   {
    "duration": 9,
    "start_time": "2022-11-08T15:32:34.450Z"
   },
   {
    "duration": 11,
    "start_time": "2022-11-08T15:32:34.460Z"
   },
   {
    "duration": 70,
    "start_time": "2022-11-08T16:05:02.735Z"
   },
   {
    "duration": 1299,
    "start_time": "2022-11-08T16:05:12.912Z"
   },
   {
    "duration": 650,
    "start_time": "2022-11-08T16:05:14.213Z"
   },
   {
    "duration": 115,
    "start_time": "2022-11-08T16:05:14.864Z"
   },
   {
    "duration": 32,
    "start_time": "2022-11-08T16:05:14.982Z"
   },
   {
    "duration": 102,
    "start_time": "2022-11-08T16:05:15.016Z"
   },
   {
    "duration": 37,
    "start_time": "2022-11-08T16:05:15.123Z"
   },
   {
    "duration": 51,
    "start_time": "2022-11-08T16:05:15.162Z"
   },
   {
    "duration": 194,
    "start_time": "2022-11-08T16:05:15.215Z"
   },
   {
    "duration": 228,
    "start_time": "2022-11-08T16:05:15.411Z"
   },
   {
    "duration": 6,
    "start_time": "2022-11-08T16:05:15.643Z"
   },
   {
    "duration": 9,
    "start_time": "2022-11-08T16:05:15.651Z"
   },
   {
    "duration": 451,
    "start_time": "2022-11-08T16:05:15.662Z"
   },
   {
    "duration": 44,
    "start_time": "2022-11-08T16:05:16.115Z"
   },
   {
    "duration": 41,
    "start_time": "2022-11-08T16:05:16.162Z"
   },
   {
    "duration": 54,
    "start_time": "2022-11-08T16:05:16.205Z"
   },
   {
    "duration": 53,
    "start_time": "2022-11-08T16:05:16.262Z"
   },
   {
    "duration": 73,
    "start_time": "2022-11-08T16:05:16.316Z"
   },
   {
    "duration": 74,
    "start_time": "2022-11-08T16:05:16.392Z"
   },
   {
    "duration": 227,
    "start_time": "2022-11-08T16:05:16.468Z"
   },
   {
    "duration": 14,
    "start_time": "2022-11-08T16:05:16.697Z"
   },
   {
    "duration": 24,
    "start_time": "2022-11-08T16:05:16.712Z"
   },
   {
    "duration": 13,
    "start_time": "2022-11-08T16:05:16.738Z"
   },
   {
    "duration": 5181,
    "start_time": "2022-11-08T16:05:16.753Z"
   },
   {
    "duration": 85,
    "start_time": "2022-11-08T16:05:21.936Z"
   },
   {
    "duration": 32,
    "start_time": "2022-11-08T16:05:22.023Z"
   },
   {
    "duration": 8,
    "start_time": "2022-11-08T16:05:22.057Z"
   },
   {
    "duration": 12,
    "start_time": "2022-11-08T16:05:22.067Z"
   },
   {
    "duration": 10,
    "start_time": "2022-11-08T16:05:22.084Z"
   },
   {
    "duration": 9,
    "start_time": "2022-11-08T16:05:22.096Z"
   },
   {
    "duration": 29,
    "start_time": "2022-11-08T16:05:22.107Z"
   },
   {
    "duration": 9,
    "start_time": "2022-11-08T16:05:22.137Z"
   },
   {
    "duration": 12,
    "start_time": "2022-11-08T16:05:22.148Z"
   },
   {
    "duration": 11,
    "start_time": "2022-11-08T16:05:22.162Z"
   },
   {
    "duration": 7,
    "start_time": "2022-11-08T16:05:22.175Z"
   },
   {
    "duration": 8,
    "start_time": "2022-11-08T16:05:22.183Z"
   },
   {
    "duration": 10,
    "start_time": "2022-11-08T16:05:22.192Z"
   },
   {
    "duration": 71,
    "start_time": "2022-11-08T16:08:51.628Z"
   },
   {
    "duration": 92,
    "start_time": "2022-11-08T16:09:01.296Z"
   },
   {
    "duration": 10,
    "start_time": "2022-11-08T16:09:24.360Z"
   },
   {
    "duration": 1146,
    "start_time": "2022-11-08T16:09:37.288Z"
   },
   {
    "duration": 143,
    "start_time": "2022-11-08T16:09:38.436Z"
   },
   {
    "duration": 95,
    "start_time": "2022-11-08T16:09:38.580Z"
   },
   {
    "duration": 19,
    "start_time": "2022-11-08T16:09:38.678Z"
   },
   {
    "duration": 90,
    "start_time": "2022-11-08T16:09:38.698Z"
   },
   {
    "duration": 23,
    "start_time": "2022-11-08T16:09:38.791Z"
   },
   {
    "duration": 54,
    "start_time": "2022-11-08T16:09:38.816Z"
   },
   {
    "duration": 196,
    "start_time": "2022-11-08T16:09:38.872Z"
   },
   {
    "duration": 253,
    "start_time": "2022-11-08T16:09:39.070Z"
   },
   {
    "duration": 5,
    "start_time": "2022-11-08T16:09:39.326Z"
   },
   {
    "duration": 7,
    "start_time": "2022-11-08T16:09:39.333Z"
   },
   {
    "duration": 473,
    "start_time": "2022-11-08T16:09:39.342Z"
   },
   {
    "duration": 48,
    "start_time": "2022-11-08T16:09:39.817Z"
   },
   {
    "duration": 38,
    "start_time": "2022-11-08T16:09:39.867Z"
   },
   {
    "duration": 50,
    "start_time": "2022-11-08T16:09:39.907Z"
   },
   {
    "duration": 55,
    "start_time": "2022-11-08T16:09:39.959Z"
   },
   {
    "duration": 67,
    "start_time": "2022-11-08T16:09:40.016Z"
   },
   {
    "duration": 72,
    "start_time": "2022-11-08T16:09:40.085Z"
   },
   {
    "duration": 7,
    "start_time": "2022-11-08T16:09:40.158Z"
   },
   {
    "duration": 337,
    "start_time": "2022-11-08T16:09:40.167Z"
   },
   {
    "duration": 17,
    "start_time": "2022-11-08T16:09:40.506Z"
   },
   {
    "duration": 11,
    "start_time": "2022-11-08T16:09:40.535Z"
   },
   {
    "duration": 16,
    "start_time": "2022-11-08T16:09:40.547Z"
   },
   {
    "duration": 5468,
    "start_time": "2022-11-08T16:09:40.564Z"
   },
   {
    "duration": 85,
    "start_time": "2022-11-08T16:09:46.034Z"
   },
   {
    "duration": 30,
    "start_time": "2022-11-08T16:09:46.121Z"
   },
   {
    "duration": 7,
    "start_time": "2022-11-08T16:09:46.153Z"
   },
   {
    "duration": 7,
    "start_time": "2022-11-08T16:09:46.164Z"
   },
   {
    "duration": 12,
    "start_time": "2022-11-08T16:09:46.172Z"
   },
   {
    "duration": 8,
    "start_time": "2022-11-08T16:09:46.186Z"
   },
   {
    "duration": 11,
    "start_time": "2022-11-08T16:09:46.195Z"
   },
   {
    "duration": 32,
    "start_time": "2022-11-08T16:09:46.208Z"
   },
   {
    "duration": 3,
    "start_time": "2022-11-08T16:09:46.242Z"
   },
   {
    "duration": 9,
    "start_time": "2022-11-08T16:09:46.246Z"
   },
   {
    "duration": 8,
    "start_time": "2022-11-08T16:09:46.257Z"
   },
   {
    "duration": 8,
    "start_time": "2022-11-08T16:09:46.267Z"
   },
   {
    "duration": 10,
    "start_time": "2022-11-08T16:09:46.276Z"
   },
   {
    "duration": 223,
    "start_time": "2022-11-08T16:09:50.013Z"
   },
   {
    "duration": 228,
    "start_time": "2022-11-08T16:11:14.780Z"
   },
   {
    "duration": 183,
    "start_time": "2022-11-08T16:13:25.947Z"
   },
   {
    "duration": 173,
    "start_time": "2022-11-08T16:39:06.588Z"
   },
   {
    "duration": 105,
    "start_time": "2022-11-08T16:39:59.730Z"
   },
   {
    "duration": 194,
    "start_time": "2022-11-08T16:40:52.851Z"
   },
   {
    "duration": 248,
    "start_time": "2022-11-08T16:42:06.547Z"
   },
   {
    "duration": 181,
    "start_time": "2022-11-08T16:42:56.078Z"
   },
   {
    "duration": 181,
    "start_time": "2022-11-08T16:44:29.387Z"
   },
   {
    "duration": 2,
    "start_time": "2022-11-08T16:45:38.305Z"
   },
   {
    "duration": 10,
    "start_time": "2022-11-08T16:53:13.683Z"
   },
   {
    "duration": 1043,
    "start_time": "2022-11-08T16:53:28.339Z"
   },
   {
    "duration": 136,
    "start_time": "2022-11-08T16:53:29.384Z"
   },
   {
    "duration": 83,
    "start_time": "2022-11-08T16:53:29.521Z"
   },
   {
    "duration": 34,
    "start_time": "2022-11-08T16:53:29.606Z"
   },
   {
    "duration": 76,
    "start_time": "2022-11-08T16:53:29.642Z"
   },
   {
    "duration": 30,
    "start_time": "2022-11-08T16:53:29.719Z"
   },
   {
    "duration": 39,
    "start_time": "2022-11-08T16:53:29.751Z"
   },
   {
    "duration": 190,
    "start_time": "2022-11-08T16:53:29.792Z"
   },
   {
    "duration": 243,
    "start_time": "2022-11-08T16:53:29.984Z"
   },
   {
    "duration": 6,
    "start_time": "2022-11-08T16:53:30.231Z"
   },
   {
    "duration": 37,
    "start_time": "2022-11-08T16:53:30.239Z"
   },
   {
    "duration": 486,
    "start_time": "2022-11-08T16:53:30.279Z"
   },
   {
    "duration": 34,
    "start_time": "2022-11-08T16:53:30.768Z"
   },
   {
    "duration": 2,
    "start_time": "2022-11-08T16:53:30.804Z"
   },
   {
    "duration": 130,
    "start_time": "2022-11-08T16:53:30.808Z"
   },
   {
    "duration": 0,
    "start_time": "2022-11-08T16:53:30.941Z"
   },
   {
    "duration": 0,
    "start_time": "2022-11-08T16:53:30.942Z"
   },
   {
    "duration": 0,
    "start_time": "2022-11-08T16:53:30.942Z"
   },
   {
    "duration": 0,
    "start_time": "2022-11-08T16:53:30.943Z"
   },
   {
    "duration": 0,
    "start_time": "2022-11-08T16:53:30.944Z"
   },
   {
    "duration": 0,
    "start_time": "2022-11-08T16:53:30.946Z"
   },
   {
    "duration": 0,
    "start_time": "2022-11-08T16:53:30.946Z"
   },
   {
    "duration": 0,
    "start_time": "2022-11-08T16:53:30.947Z"
   },
   {
    "duration": 0,
    "start_time": "2022-11-08T16:53:30.948Z"
   },
   {
    "duration": 0,
    "start_time": "2022-11-08T16:53:30.949Z"
   },
   {
    "duration": 0,
    "start_time": "2022-11-08T16:53:30.950Z"
   },
   {
    "duration": 0,
    "start_time": "2022-11-08T16:53:30.951Z"
   },
   {
    "duration": 0,
    "start_time": "2022-11-08T16:53:30.952Z"
   },
   {
    "duration": 0,
    "start_time": "2022-11-08T16:53:30.953Z"
   },
   {
    "duration": 0,
    "start_time": "2022-11-08T16:53:30.954Z"
   },
   {
    "duration": 0,
    "start_time": "2022-11-08T16:53:30.955Z"
   },
   {
    "duration": 0,
    "start_time": "2022-11-08T16:53:30.956Z"
   },
   {
    "duration": 0,
    "start_time": "2022-11-08T16:53:30.957Z"
   },
   {
    "duration": 0,
    "start_time": "2022-11-08T16:53:30.958Z"
   },
   {
    "duration": 0,
    "start_time": "2022-11-08T16:53:30.959Z"
   },
   {
    "duration": 0,
    "start_time": "2022-11-08T16:53:30.960Z"
   },
   {
    "duration": 0,
    "start_time": "2022-11-08T16:53:30.961Z"
   },
   {
    "duration": 0,
    "start_time": "2022-11-08T16:53:30.962Z"
   },
   {
    "duration": 0,
    "start_time": "2022-11-08T16:53:30.963Z"
   },
   {
    "duration": 1090,
    "start_time": "2022-11-08T16:54:03.515Z"
   },
   {
    "duration": 143,
    "start_time": "2022-11-08T16:54:04.606Z"
   },
   {
    "duration": 89,
    "start_time": "2022-11-08T16:54:04.750Z"
   },
   {
    "duration": 22,
    "start_time": "2022-11-08T16:54:04.842Z"
   },
   {
    "duration": 98,
    "start_time": "2022-11-08T16:54:04.865Z"
   },
   {
    "duration": 21,
    "start_time": "2022-11-08T16:54:04.965Z"
   },
   {
    "duration": 55,
    "start_time": "2022-11-08T16:54:04.987Z"
   },
   {
    "duration": 189,
    "start_time": "2022-11-08T16:54:05.044Z"
   },
   {
    "duration": 244,
    "start_time": "2022-11-08T16:54:05.235Z"
   },
   {
    "duration": 5,
    "start_time": "2022-11-08T16:54:05.482Z"
   },
   {
    "duration": 22,
    "start_time": "2022-11-08T16:54:05.489Z"
   },
   {
    "duration": 435,
    "start_time": "2022-11-08T16:54:05.512Z"
   },
   {
    "duration": 39,
    "start_time": "2022-11-08T16:54:05.949Z"
   },
   {
    "duration": 3,
    "start_time": "2022-11-08T16:54:05.989Z"
   },
   {
    "duration": 21,
    "start_time": "2022-11-08T16:54:05.993Z"
   },
   {
    "duration": 68,
    "start_time": "2022-11-08T16:54:06.016Z"
   },
   {
    "duration": 54,
    "start_time": "2022-11-08T16:54:06.085Z"
   },
   {
    "duration": 51,
    "start_time": "2022-11-08T16:54:06.140Z"
   },
   {
    "duration": 6,
    "start_time": "2022-11-08T16:54:06.193Z"
   },
   {
    "duration": 299,
    "start_time": "2022-11-08T16:54:06.201Z"
   },
   {
    "duration": 203,
    "start_time": "2022-11-08T16:54:06.501Z"
   },
   {
    "duration": 19,
    "start_time": "2022-11-08T16:54:06.705Z"
   },
   {
    "duration": 10,
    "start_time": "2022-11-08T16:54:06.735Z"
   },
   {
    "duration": 18,
    "start_time": "2022-11-08T16:54:06.747Z"
   },
   {
    "duration": 5533,
    "start_time": "2022-11-08T16:54:06.767Z"
   },
   {
    "duration": 91,
    "start_time": "2022-11-08T16:54:12.302Z"
   },
   {
    "duration": 17,
    "start_time": "2022-11-08T16:54:12.395Z"
   },
   {
    "duration": 3,
    "start_time": "2022-11-08T16:54:12.415Z"
   },
   {
    "duration": 18,
    "start_time": "2022-11-08T16:54:12.419Z"
   },
   {
    "duration": 11,
    "start_time": "2022-11-08T16:54:12.439Z"
   },
   {
    "duration": 9,
    "start_time": "2022-11-08T16:54:12.451Z"
   },
   {
    "duration": 7,
    "start_time": "2022-11-08T16:54:12.461Z"
   },
   {
    "duration": 10,
    "start_time": "2022-11-08T16:54:12.469Z"
   },
   {
    "duration": 7,
    "start_time": "2022-11-08T16:54:12.481Z"
   },
   {
    "duration": 5,
    "start_time": "2022-11-08T16:54:12.489Z"
   },
   {
    "duration": 44,
    "start_time": "2022-11-08T16:54:12.495Z"
   },
   {
    "duration": 14,
    "start_time": "2022-11-08T16:54:12.541Z"
   },
   {
    "duration": 14,
    "start_time": "2022-11-08T16:54:12.557Z"
   },
   {
    "duration": 7,
    "start_time": "2022-11-08T16:54:12.573Z"
   },
   {
    "duration": 92,
    "start_time": "2022-11-08T17:03:07.796Z"
   },
   {
    "duration": 1258,
    "start_time": "2022-11-08T17:03:14.080Z"
   },
   {
    "duration": 45,
    "start_time": "2022-11-08T17:03:36.216Z"
   },
   {
    "duration": 3,
    "start_time": "2022-11-08T17:03:58.504Z"
   },
   {
    "duration": 4,
    "start_time": "2022-11-08T17:03:59.071Z"
   },
   {
    "duration": 6,
    "start_time": "2022-11-08T17:03:59.936Z"
   },
   {
    "duration": 41,
    "start_time": "2022-11-08T17:04:02.300Z"
   },
   {
    "duration": 4,
    "start_time": "2022-11-08T17:06:19.188Z"
   },
   {
    "duration": 8,
    "start_time": "2022-11-08T17:06:20.280Z"
   },
   {
    "duration": 6,
    "start_time": "2022-11-08T17:07:02.584Z"
   },
   {
    "duration": 8,
    "start_time": "2022-11-08T17:07:04.160Z"
   },
   {
    "duration": 8,
    "start_time": "2022-11-08T17:07:07.156Z"
   },
   {
    "duration": 6,
    "start_time": "2022-11-08T17:08:01.489Z"
   },
   {
    "duration": 7,
    "start_time": "2022-11-08T17:08:03.344Z"
   },
   {
    "duration": 6,
    "start_time": "2022-11-08T17:08:05.424Z"
   },
   {
    "duration": 7,
    "start_time": "2022-11-08T17:08:09.812Z"
   },
   {
    "duration": 1112,
    "start_time": "2022-11-08T17:13:14.597Z"
   },
   {
    "duration": 146,
    "start_time": "2022-11-08T17:13:15.711Z"
   },
   {
    "duration": 98,
    "start_time": "2022-11-08T17:13:15.862Z"
   },
   {
    "duration": 17,
    "start_time": "2022-11-08T17:13:15.962Z"
   },
   {
    "duration": 87,
    "start_time": "2022-11-08T17:13:15.981Z"
   },
   {
    "duration": 21,
    "start_time": "2022-11-08T17:13:16.069Z"
   },
   {
    "duration": 48,
    "start_time": "2022-11-08T17:13:16.091Z"
   },
   {
    "duration": 181,
    "start_time": "2022-11-08T17:13:16.141Z"
   },
   {
    "duration": 234,
    "start_time": "2022-11-08T17:13:16.325Z"
   },
   {
    "duration": 6,
    "start_time": "2022-11-08T17:13:16.561Z"
   },
   {
    "duration": 9,
    "start_time": "2022-11-08T17:13:16.568Z"
   },
   {
    "duration": 447,
    "start_time": "2022-11-08T17:13:16.579Z"
   },
   {
    "duration": 38,
    "start_time": "2022-11-08T17:13:17.028Z"
   },
   {
    "duration": 2,
    "start_time": "2022-11-08T17:13:17.068Z"
   },
   {
    "duration": 6,
    "start_time": "2022-11-08T17:13:17.072Z"
   },
   {
    "duration": 66,
    "start_time": "2022-11-08T17:13:17.079Z"
   },
   {
    "duration": 54,
    "start_time": "2022-11-08T17:13:17.147Z"
   },
   {
    "duration": 69,
    "start_time": "2022-11-08T17:13:17.203Z"
   },
   {
    "duration": 6,
    "start_time": "2022-11-08T17:13:17.273Z"
   },
   {
    "duration": 259,
    "start_time": "2022-11-08T17:13:17.280Z"
   },
   {
    "duration": 199,
    "start_time": "2022-11-08T17:13:17.540Z"
   },
   {
    "duration": 17,
    "start_time": "2022-11-08T17:13:17.741Z"
   },
   {
    "duration": 18,
    "start_time": "2022-11-08T17:13:17.760Z"
   },
   {
    "duration": 46,
    "start_time": "2022-11-08T17:13:17.780Z"
   },
   {
    "duration": 5577,
    "start_time": "2022-11-08T17:13:17.827Z"
   },
   {
    "duration": 83,
    "start_time": "2022-11-08T17:13:23.406Z"
   },
   {
    "duration": 16,
    "start_time": "2022-11-08T17:13:23.492Z"
   },
   {
    "duration": 13,
    "start_time": "2022-11-08T17:13:23.510Z"
   },
   {
    "duration": 18,
    "start_time": "2022-11-08T17:13:23.524Z"
   },
   {
    "duration": 15,
    "start_time": "2022-11-08T17:13:23.544Z"
   },
   {
    "duration": 46,
    "start_time": "2022-11-08T17:13:23.561Z"
   },
   {
    "duration": 9,
    "start_time": "2022-11-08T17:13:23.609Z"
   },
   {
    "duration": 16,
    "start_time": "2022-11-08T17:13:23.620Z"
   },
   {
    "duration": 10,
    "start_time": "2022-11-08T17:13:23.639Z"
   },
   {
    "duration": 6,
    "start_time": "2022-11-08T17:13:23.650Z"
   },
   {
    "duration": 10,
    "start_time": "2022-11-08T17:13:23.657Z"
   },
   {
    "duration": 6,
    "start_time": "2022-11-08T17:13:23.669Z"
   },
   {
    "duration": 8,
    "start_time": "2022-11-08T17:13:23.677Z"
   },
   {
    "duration": 9,
    "start_time": "2022-11-08T17:13:23.686Z"
   },
   {
    "duration": 44,
    "start_time": "2022-11-08T17:13:52.365Z"
   },
   {
    "duration": 1150,
    "start_time": "2022-11-08T17:14:42.541Z"
   },
   {
    "duration": 147,
    "start_time": "2022-11-08T17:14:43.693Z"
   },
   {
    "duration": 87,
    "start_time": "2022-11-08T17:14:43.842Z"
   },
   {
    "duration": 19,
    "start_time": "2022-11-08T17:14:43.930Z"
   },
   {
    "duration": 96,
    "start_time": "2022-11-08T17:14:43.951Z"
   },
   {
    "duration": 23,
    "start_time": "2022-11-08T17:14:44.048Z"
   },
   {
    "duration": 39,
    "start_time": "2022-11-08T17:14:44.073Z"
   },
   {
    "duration": 210,
    "start_time": "2022-11-08T17:14:44.114Z"
   },
   {
    "duration": 257,
    "start_time": "2022-11-08T17:14:44.326Z"
   },
   {
    "duration": 7,
    "start_time": "2022-11-08T17:14:44.587Z"
   },
   {
    "duration": 7,
    "start_time": "2022-11-08T17:14:44.596Z"
   },
   {
    "duration": 442,
    "start_time": "2022-11-08T17:14:44.605Z"
   },
   {
    "duration": 33,
    "start_time": "2022-11-08T17:14:45.048Z"
   },
   {
    "duration": 3,
    "start_time": "2022-11-08T17:14:45.083Z"
   },
   {
    "duration": 5,
    "start_time": "2022-11-08T17:14:45.088Z"
   },
   {
    "duration": 77,
    "start_time": "2022-11-08T17:14:45.094Z"
   },
   {
    "duration": 61,
    "start_time": "2022-11-08T17:14:45.174Z"
   },
   {
    "duration": 59,
    "start_time": "2022-11-08T17:14:45.237Z"
   },
   {
    "duration": 8,
    "start_time": "2022-11-08T17:14:45.298Z"
   },
   {
    "duration": 252,
    "start_time": "2022-11-08T17:14:45.308Z"
   },
   {
    "duration": 199,
    "start_time": "2022-11-08T17:14:45.562Z"
   },
   {
    "duration": 22,
    "start_time": "2022-11-08T17:14:45.763Z"
   },
   {
    "duration": 10,
    "start_time": "2022-11-08T17:14:45.788Z"
   },
   {
    "duration": 36,
    "start_time": "2022-11-08T17:14:45.799Z"
   },
   {
    "duration": 5323,
    "start_time": "2022-11-08T17:14:45.837Z"
   },
   {
    "duration": 86,
    "start_time": "2022-11-08T17:14:51.161Z"
   },
   {
    "duration": 19,
    "start_time": "2022-11-08T17:14:51.249Z"
   },
   {
    "duration": 9,
    "start_time": "2022-11-08T17:14:51.272Z"
   },
   {
    "duration": 12,
    "start_time": "2022-11-08T17:14:51.283Z"
   },
   {
    "duration": 13,
    "start_time": "2022-11-08T17:14:51.296Z"
   },
   {
    "duration": 52,
    "start_time": "2022-11-08T17:14:51.311Z"
   },
   {
    "duration": 7,
    "start_time": "2022-11-08T17:14:51.365Z"
   },
   {
    "duration": 9,
    "start_time": "2022-11-08T17:14:51.374Z"
   },
   {
    "duration": 13,
    "start_time": "2022-11-08T17:14:51.385Z"
   },
   {
    "duration": 8,
    "start_time": "2022-11-08T17:14:51.400Z"
   },
   {
    "duration": 28,
    "start_time": "2022-11-08T17:14:51.410Z"
   },
   {
    "duration": 10,
    "start_time": "2022-11-08T17:14:51.439Z"
   },
   {
    "duration": 7,
    "start_time": "2022-11-08T17:14:51.450Z"
   },
   {
    "duration": 7,
    "start_time": "2022-11-08T17:14:51.459Z"
   },
   {
    "duration": 39,
    "start_time": "2022-11-08T17:17:42.166Z"
   },
   {
    "duration": 1234,
    "start_time": "2022-11-08T19:42:08.027Z"
   },
   {
    "duration": 491,
    "start_time": "2022-11-08T19:42:09.263Z"
   },
   {
    "duration": 81,
    "start_time": "2022-11-08T19:42:09.756Z"
   },
   {
    "duration": 20,
    "start_time": "2022-11-08T19:42:09.839Z"
   },
   {
    "duration": 68,
    "start_time": "2022-11-08T19:42:09.860Z"
   },
   {
    "duration": 30,
    "start_time": "2022-11-08T19:42:09.930Z"
   },
   {
    "duration": 48,
    "start_time": "2022-11-08T19:42:09.961Z"
   },
   {
    "duration": 192,
    "start_time": "2022-11-08T19:42:10.011Z"
   },
   {
    "duration": 230,
    "start_time": "2022-11-08T19:42:10.205Z"
   },
   {
    "duration": 4,
    "start_time": "2022-11-08T19:42:10.439Z"
   },
   {
    "duration": 22,
    "start_time": "2022-11-08T19:42:10.445Z"
   },
   {
    "duration": 419,
    "start_time": "2022-11-08T19:42:10.468Z"
   },
   {
    "duration": 32,
    "start_time": "2022-11-08T19:42:10.888Z"
   },
   {
    "duration": 2,
    "start_time": "2022-11-08T19:42:10.922Z"
   },
   {
    "duration": 7,
    "start_time": "2022-11-08T19:42:10.925Z"
   },
   {
    "duration": 63,
    "start_time": "2022-11-08T19:42:10.933Z"
   },
   {
    "duration": 62,
    "start_time": "2022-11-08T19:42:10.998Z"
   },
   {
    "duration": 53,
    "start_time": "2022-11-08T19:42:11.061Z"
   },
   {
    "duration": 6,
    "start_time": "2022-11-08T19:42:11.116Z"
   },
   {
    "duration": 253,
    "start_time": "2022-11-08T19:42:11.123Z"
   },
   {
    "duration": 197,
    "start_time": "2022-11-08T19:42:11.378Z"
   },
   {
    "duration": 15,
    "start_time": "2022-11-08T19:42:11.578Z"
   },
   {
    "duration": 7,
    "start_time": "2022-11-08T19:42:11.595Z"
   },
   {
    "duration": 10,
    "start_time": "2022-11-08T19:42:11.604Z"
   },
   {
    "duration": 5204,
    "start_time": "2022-11-08T19:42:11.616Z"
   },
   {
    "duration": 86,
    "start_time": "2022-11-08T19:42:16.821Z"
   },
   {
    "duration": 17,
    "start_time": "2022-11-08T19:42:16.908Z"
   },
   {
    "duration": 4,
    "start_time": "2022-11-08T19:42:16.928Z"
   },
   {
    "duration": 15,
    "start_time": "2022-11-08T19:42:16.934Z"
   },
   {
    "duration": 10,
    "start_time": "2022-11-08T19:42:16.950Z"
   },
   {
    "duration": 44,
    "start_time": "2022-11-08T19:42:16.961Z"
   },
   {
    "duration": 8,
    "start_time": "2022-11-08T19:42:17.006Z"
   },
   {
    "duration": 9,
    "start_time": "2022-11-08T19:42:17.015Z"
   },
   {
    "duration": 7,
    "start_time": "2022-11-08T19:42:17.047Z"
   },
   {
    "duration": 2,
    "start_time": "2022-11-08T19:42:17.056Z"
   },
   {
    "duration": 9,
    "start_time": "2022-11-08T19:42:17.059Z"
   },
   {
    "duration": 6,
    "start_time": "2022-11-08T19:42:17.069Z"
   },
   {
    "duration": 7,
    "start_time": "2022-11-08T19:42:17.077Z"
   },
   {
    "duration": 8,
    "start_time": "2022-11-08T19:42:17.085Z"
   },
   {
    "duration": 5,
    "start_time": "2022-11-08T19:45:14.188Z"
   },
   {
    "duration": 4,
    "start_time": "2022-11-08T19:45:55.934Z"
   },
   {
    "duration": 7,
    "start_time": "2022-11-08T19:46:11.197Z"
   }
  ],
  "kernelspec": {
   "display_name": "Python 3 (ipykernel)",
   "language": "python",
   "name": "python3"
  },
  "language_info": {
   "codemirror_mode": {
    "name": "ipython",
    "version": 3
   },
   "file_extension": ".py",
   "mimetype": "text/x-python",
   "name": "python",
   "nbconvert_exporter": "python",
   "pygments_lexer": "ipython3",
   "version": "3.9.13"
  },
  "toc": {
   "base_numbering": 1,
   "nav_menu": {},
   "number_sections": true,
   "sideBar": true,
   "skip_h1_title": true,
   "title_cell": "Table of Contents",
   "title_sidebar": "Contents",
   "toc_cell": false,
   "toc_position": {},
   "toc_section_display": true,
   "toc_window_display": true
  }
 },
 "nbformat": 4,
 "nbformat_minor": 5
}
